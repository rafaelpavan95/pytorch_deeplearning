{
 "cells": [
  {
   "cell_type": "markdown",
   "metadata": {},
   "source": [
    "# Moore's Law"
   ]
  },
  {
   "cell_type": "code",
   "execution_count": 10,
   "metadata": {},
   "outputs": [],
   "source": [
    "import pandas as pd\n",
    "import numpy as np\n",
    "import matplotlib.pyplot as plt\n",
    "import seaborn as sns\n",
    "import torch\n",
    "import torch.nn as nn\n",
    "\n",
    "data = pd.read_csv('https://raw.githubusercontent.com/lazyprogrammer/machine_learning_examples/master/tf2.0/moore.csv')"
   ]
  },
  {
   "cell_type": "code",
   "execution_count": 11,
   "metadata": {},
   "outputs": [
    {
     "data": {
      "text/html": [
       "<div>\n",
       "<style scoped>\n",
       "    .dataframe tbody tr th:only-of-type {\n",
       "        vertical-align: middle;\n",
       "    }\n",
       "\n",
       "    .dataframe tbody tr th {\n",
       "        vertical-align: top;\n",
       "    }\n",
       "\n",
       "    .dataframe thead th {\n",
       "        text-align: right;\n",
       "    }\n",
       "</style>\n",
       "<table border=\"1\" class=\"dataframe\">\n",
       "  <thead>\n",
       "    <tr style=\"text-align: right;\">\n",
       "      <th></th>\n",
       "      <th>1971</th>\n",
       "      <th>2300</th>\n",
       "    </tr>\n",
       "  </thead>\n",
       "  <tbody>\n",
       "    <tr>\n",
       "      <th>0</th>\n",
       "      <td>1972</td>\n",
       "      <td>3500</td>\n",
       "    </tr>\n",
       "    <tr>\n",
       "      <th>1</th>\n",
       "      <td>1973</td>\n",
       "      <td>2500</td>\n",
       "    </tr>\n",
       "    <tr>\n",
       "      <th>2</th>\n",
       "      <td>1973</td>\n",
       "      <td>2500</td>\n",
       "    </tr>\n",
       "    <tr>\n",
       "      <th>3</th>\n",
       "      <td>1974</td>\n",
       "      <td>4100</td>\n",
       "    </tr>\n",
       "    <tr>\n",
       "      <th>4</th>\n",
       "      <td>1974</td>\n",
       "      <td>4500</td>\n",
       "    </tr>\n",
       "  </tbody>\n",
       "</table>\n",
       "</div>"
      ],
      "text/plain": [
       "   1971  2300\n",
       "0  1972  3500\n",
       "1  1973  2500\n",
       "2  1973  2500\n",
       "3  1974  4100\n",
       "4  1974  4500"
      ]
     },
     "execution_count": 11,
     "metadata": {},
     "output_type": "execute_result"
    }
   ],
   "source": [
    "data.head()"
   ]
  },
  {
   "cell_type": "code",
   "execution_count": 12,
   "metadata": {},
   "outputs": [
    {
     "data": {
      "image/png": "[encoded data removed]",
      "text/plain": [
       "<Figure size 432x288 with 1 Axes>"
      ]
     },
     "metadata": {
      "needs_background": "light"
     },
     "output_type": "display_data"
    }
   ],
   "source": [
    "X = data.iloc[:,0].values.reshape(-1,1)\n",
    "Y = data.iloc[:,1].values.reshape(-1,1)\n",
    "\n",
    "plt.scatter(X,Y)\n",
    "plt.title('Moore\\'s Law')\n",
    "plt.grid()\n"
   ]
  },
  {
   "cell_type": "code",
   "execution_count": 13,
   "metadata": {},
   "outputs": [
    {
     "data": {
      "text/plain": [
       "<matplotlib.collections.PathCollection at 0x1cdfff23dc0>"
      ]
     },
     "execution_count": 13,
     "metadata": {},
     "output_type": "execute_result"
    },
    {
     "data": {
      "image/png": "[encoded data removed]",
      "text/plain": [
       "<Figure size 432x288 with 1 Axes>"
      ]
     },
     "metadata": {
      "needs_background": "light"
     },
     "output_type": "display_data"
    }
   ],
   "source": [
    "Y = np.log(Y)\n",
    "\n",
    "plt.scatter(X,Y, color='red')\n"
   ]
  },
  {
   "cell_type": "code",
   "execution_count": 15,
   "metadata": {},
   "outputs": [
    {
     "data": {
      "text/plain": [
       "<matplotlib.collections.PathCollection at 0x1cd80fde820>"
      ]
     },
     "execution_count": 15,
     "metadata": {},
     "output_type": "execute_result"
    },
    {
     "data": {
      "image/png": "[encoded data removed]",
      "text/plain": [
       "<Figure size 432x288 with 1 Axes>"
      ]
     },
     "metadata": {
      "needs_background": "light"
     },
     "output_type": "display_data"
    }
   ],
   "source": [
    "mean_x = X.mean()\n",
    "mean_y = Y.mean()\n",
    "std_x = X.std()\n",
    "std_y = Y.std()\n",
    "\n",
    "X = (X-mean_x)/std_x\n",
    "Y = (Y-mean_y)/std_y\n",
    "\n",
    "plt.scatter(X,Y,color='red')"
   ]
  },
  {
   "cell_type": "code",
   "execution_count": 16,
   "metadata": {},
   "outputs": [],
   "source": [
    "X = X.astype(np.float32)\n",
    "Y = Y.astype(np.float32)"
   ]
  },
  {
   "cell_type": "code",
   "execution_count": 17,
   "metadata": {},
   "outputs": [],
   "source": [
    "model = nn.Linear(1,1)\n",
    "\n",
    "criterion = nn.MSELoss()\n",
    "\n",
    "optimizer = torch.optim.SGD(model.parameters(), lr = 0.01, momentum = 0.7)\n",
    "\n",
    "inputs = torch.from_numpy(X)\n",
    "\n",
    "targets = torch.from_numpy(Y)"
   ]
  },
  {
   "cell_type": "code",
   "execution_count": 18,
   "metadata": {},
   "outputs": [
    {
     "name": "stdout",
     "output_type": "stream",
     "text": [
      "Epoch 1/100, Loss: 1.2283\n",
      "Epoch 2/100, Loss: 1.1812\n",
      "Epoch 3/100, Loss: 1.1043\n",
      "Epoch 4/100, Loss: 1.0109\n",
      "Epoch 5/100, Loss: 0.9109\n",
      "Epoch 6/100, Loss: 0.8110\n",
      "Epoch 7/100, Loss: 0.7154\n",
      "Epoch 8/100, Loss: 0.6269\n",
      "Epoch 9/100, Loss: 0.5465\n",
      "Epoch 10/100, Loss: 0.4747\n",
      "Epoch 11/100, Loss: 0.4115\n",
      "Epoch 12/100, Loss: 0.3563\n",
      "Epoch 13/100, Loss: 0.3085\n",
      "Epoch 14/100, Loss: 0.2674\n",
      "Epoch 15/100, Loss: 0.2321\n",
      "Epoch 16/100, Loss: 0.2020\n",
      "Epoch 17/100, Loss: 0.1765\n",
      "Epoch 18/100, Loss: 0.1548\n",
      "Epoch 19/100, Loss: 0.1364\n",
      "Epoch 20/100, Loss: 0.1210\n",
      "Epoch 21/100, Loss: 0.1079\n",
      "Epoch 22/100, Loss: 0.0969\n",
      "Epoch 23/100, Loss: 0.0876\n",
      "Epoch 24/100, Loss: 0.0799\n",
      "Epoch 25/100, Loss: 0.0733\n",
      "Epoch 26/100, Loss: 0.0678\n",
      "Epoch 27/100, Loss: 0.0632\n",
      "Epoch 28/100, Loss: 0.0594\n",
      "Epoch 29/100, Loss: 0.0561\n",
      "Epoch 30/100, Loss: 0.0534\n",
      "Epoch 31/100, Loss: 0.0512\n",
      "Epoch 32/100, Loss: 0.0493\n",
      "Epoch 33/100, Loss: 0.0477\n",
      "Epoch 34/100, Loss: 0.0463\n",
      "Epoch 35/100, Loss: 0.0452\n",
      "Epoch 36/100, Loss: 0.0443\n",
      "Epoch 37/100, Loss: 0.0435\n",
      "Epoch 38/100, Loss: 0.0428\n",
      "Epoch 39/100, Loss: 0.0423\n",
      "Epoch 40/100, Loss: 0.0418\n",
      "Epoch 41/100, Loss: 0.0414\n",
      "Epoch 42/100, Loss: 0.0411\n",
      "Epoch 43/100, Loss: 0.0408\n",
      "Epoch 44/100, Loss: 0.0406\n",
      "Epoch 45/100, Loss: 0.0404\n",
      "Epoch 46/100, Loss: 0.0403\n",
      "Epoch 47/100, Loss: 0.0401\n",
      "Epoch 48/100, Loss: 0.0400\n",
      "Epoch 49/100, Loss: 0.0399\n",
      "Epoch 50/100, Loss: 0.0399\n",
      "Epoch 51/100, Loss: 0.0398\n",
      "Epoch 52/100, Loss: 0.0397\n",
      "Epoch 53/100, Loss: 0.0397\n",
      "Epoch 54/100, Loss: 0.0397\n",
      "Epoch 55/100, Loss: 0.0396\n",
      "Epoch 56/100, Loss: 0.0396\n",
      "Epoch 57/100, Loss: 0.0396\n",
      "Epoch 58/100, Loss: 0.0396\n",
      "Epoch 59/100, Loss: 0.0395\n",
      "Epoch 60/100, Loss: 0.0395\n",
      "Epoch 61/100, Loss: 0.0395\n",
      "Epoch 62/100, Loss: 0.0395\n",
      "Epoch 63/100, Loss: 0.0395\n",
      "Epoch 64/100, Loss: 0.0395\n",
      "Epoch 65/100, Loss: 0.0395\n",
      "Epoch 66/100, Loss: 0.0395\n",
      "Epoch 67/100, Loss: 0.0395\n",
      "Epoch 68/100, Loss: 0.0395\n",
      "Epoch 69/100, Loss: 0.0395\n",
      "Epoch 70/100, Loss: 0.0395\n",
      "Epoch 71/100, Loss: 0.0395\n",
      "Epoch 72/100, Loss: 0.0395\n",
      "Epoch 73/100, Loss: 0.0395\n",
      "Epoch 74/100, Loss: 0.0395\n",
      "Epoch 75/100, Loss: 0.0395\n",
      "Epoch 76/100, Loss: 0.0395\n",
      "Epoch 77/100, Loss: 0.0395\n",
      "Epoch 78/100, Loss: 0.0395\n",
      "Epoch 79/100, Loss: 0.0395\n",
      "Epoch 80/100, Loss: 0.0395\n",
      "Epoch 81/100, Loss: 0.0395\n",
      "Epoch 82/100, Loss: 0.0395\n",
      "Epoch 83/100, Loss: 0.0395\n",
      "Epoch 84/100, Loss: 0.0395\n",
      "Epoch 85/100, Loss: 0.0395\n",
      "Epoch 86/100, Loss: 0.0395\n",
      "Epoch 87/100, Loss: 0.0395\n",
      "Epoch 88/100, Loss: 0.0395\n",
      "Epoch 89/100, Loss: 0.0395\n",
      "Epoch 90/100, Loss: 0.0395\n",
      "Epoch 91/100, Loss: 0.0395\n",
      "Epoch 92/100, Loss: 0.0395\n",
      "Epoch 93/100, Loss: 0.0395\n",
      "Epoch 94/100, Loss: 0.0395\n",
      "Epoch 95/100, Loss: 0.0395\n",
      "Epoch 96/100, Loss: 0.0395\n",
      "Epoch 97/100, Loss: 0.0395\n",
      "Epoch 98/100, Loss: 0.0395\n",
      "Epoch 99/100, Loss: 0.0395\n",
      "Epoch 100/100, Loss: 0.0395\n"
     ]
    }
   ],
   "source": [
    "# Train the model\n",
    "n_epochs = 100\n",
    "losses = []\n",
    "\n",
    "for it in range(n_epochs):\n",
    "\n",
    "  optimizer.zero_grad()\n",
    "\n",
    "  outputs = model(inputs)\n",
    "  loss = criterion(outputs, targets)\n",
    "\n",
    "  losses.append(loss.item())\n",
    "    \n",
    "  loss.backward()\n",
    "  optimizer.step()\n",
    "    \n",
    "  print(f'Epoch {it+1}/{n_epochs}, Loss: {loss.item():.4f}')"
   ]
  },
  {
   "cell_type": "code",
   "execution_count": 20,
   "metadata": {},
   "outputs": [
    {
     "data": {
      "image/png": "[encoded data removed]",
      "text/plain": [
       "<Figure size 432x288 with 1 Axes>"
      ]
     },
     "metadata": {
      "needs_background": "light"
     },
     "output_type": "display_data"
    }
   ],
   "source": [
    "plt.plot(losses)\n",
    "plt.grid()"
   ]
  },
  {
   "cell_type": "code",
   "execution_count": 22,
   "metadata": {},
   "outputs": [
    {
     "data": {
      "image/png": "[encoded data removed]",
      "text/plain": [
       "<Figure size 432x288 with 1 Axes>"
      ]
     },
     "metadata": {
      "needs_background": "light"
     },
     "output_type": "display_data"
    }
   ],
   "source": [
    "predicted = model(torch.from_numpy(X)).detach().numpy()\n",
    "plt.plot(X, Y, 'ro', label='Original data')\n",
    "plt.plot(X, predicted, label='Fitted line')\n",
    "plt.legend()\n",
    "plt.grid()\n",
    "plt.show()"
   ]
  }
 ],
 "metadata": {
  "interpreter": {
   "hash": "dd29c56ba2adf52c07826bc05c245baffb15e472d30979d3bfec02223da0ee11"
  },
  "kernelspec": {
   "display_name": "Python 3.9.7 64-bit",
   "language": "python",
   "name": "python3"
  },
  "language_info": {
   "codemirror_mode": {
    "name": "ipython",
    "version": 3
   },
   "file_extension": ".py",
   "mimetype": "text/x-python",
   "name": "python",
   "nbconvert_exporter": "python",
   "pygments_lexer": "ipython3",
   "version": "3.9.7"
  },
  "orig_nbformat": 4
 },
 "nbformat": 4,
 "nbformat_minor": 2
}
