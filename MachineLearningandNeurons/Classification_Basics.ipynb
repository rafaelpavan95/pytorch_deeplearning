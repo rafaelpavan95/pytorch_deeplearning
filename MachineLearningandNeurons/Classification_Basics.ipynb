{
 "cells": [
  {
   "cell_type": "markdown",
   "metadata": {},
   "source": [
    "# Classification Basics - Breast Cancer"
   ]
  },
  {
   "cell_type": "code",
   "execution_count": 215,
   "metadata": {},
   "outputs": [],
   "source": [
    "import pandas as pd\n",
    "import numpy as np\n",
    "import matplotlib.pyplot as plt\n",
    "import seaborn as sns\n",
    "import torch\n",
    "import torch.nn as nn"
   ]
  },
  {
   "cell_type": "code",
   "execution_count": 216,
   "metadata": {},
   "outputs": [],
   "source": [
    "from sklearn.datasets import load_breast_cancer\n",
    "\n",
    "data = load_breast_cancer()\n",
    "\n",
    "X,Y = data.data, data.target\n"
   ]
  },
  {
   "cell_type": "code",
   "execution_count": 217,
   "metadata": {},
   "outputs": [],
   "source": [
    "from sklearn.model_selection import train_test_split\n",
    "\n",
    "X_train, X_test, y_train, y_test = train_test_split(X,Y,test_size=0.33)\n",
    "\n",
    "from sklearn.preprocessing import StandardScaler\n",
    "\n",
    "scaler = StandardScaler()\n",
    "\n",
    "X_train = scaler.fit_transform(X_train)\n",
    "\n",
    "X_test = scaler.transform(X_test)\n",
    "\n",
    "N, D = X_train.shape\n",
    "\n",
    "X_train = torch.from_numpy(X_train.astype(np.float32))\n",
    "X_test = torch.from_numpy(X_test.astype(np.float32))\n",
    "y_train = torch.from_numpy(y_train.astype(np.float32).reshape(-1, 1))\n",
    "y_test = torch.from_numpy(y_test.astype(np.float32).reshape(-1, 1))"
   ]
  },
  {
   "cell_type": "code",
   "execution_count": 218,
   "metadata": {},
   "outputs": [],
   "source": [
    "model = nn.Sequential(\n",
    "                        nn.Linear(D,5), \n",
    "                        nn.ReLU(),\n",
    "                        nn.Linear(5,1), \n",
    "                        nn.Sigmoid()\n",
    "                    )\n",
    "\n"
   ]
  },
  {
   "cell_type": "code",
   "execution_count": 219,
   "metadata": {},
   "outputs": [],
   "source": [
    "criterion = nn.BCELoss()\n",
    "optimizer = torch.optim.Adam(model.parameters(), lr=1e-3)"
   ]
  },
  {
   "cell_type": "code",
   "execution_count": 220,
   "metadata": {},
   "outputs": [
    {
     "name": "stdout",
     "output_type": "stream",
     "text": [
      "Epoch 50/600, Train Loss: 0.5787, Test Loss: 0.6075\n",
      "Train acc: 0.8136, Test acc: 0.7606\n",
      "Epoch 100/600, Train Loss: 0.4018, Test Loss: 0.4409\n",
      "Train acc: 0.9265, Test acc: 0.8883\n",
      "Epoch 150/600, Train Loss: 0.2824, Test Loss: 0.3241\n",
      "Train acc: 0.9423, Test acc: 0.9309\n",
      "Epoch 200/600, Train Loss: 0.2135, Test Loss: 0.2521\n",
      "Train acc: 0.9580, Test acc: 0.9415\n",
      "Epoch 250/600, Train Loss: 0.1729, Test Loss: 0.2078\n",
      "Train acc: 0.9633, Test acc: 0.9468\n",
      "Epoch 300/600, Train Loss: 0.1462, Test Loss: 0.1764\n",
      "Train acc: 0.9659, Test acc: 0.9468\n",
      "Epoch 350/600, Train Loss: 0.1277, Test Loss: 0.1529\n",
      "Train acc: 0.9659, Test acc: 0.9521\n",
      "Epoch 400/600, Train Loss: 0.1124, Test Loss: 0.1349\n",
      "Train acc: 0.9711, Test acc: 0.9681\n",
      "Epoch 450/600, Train Loss: 0.0996, Test Loss: 0.1163\n",
      "Train acc: 0.9711, Test acc: 0.9734\n",
      "Epoch 500/600, Train Loss: 0.0903, Test Loss: 0.1033\n",
      "Train acc: 0.9764, Test acc: 0.9734\n",
      "Epoch 550/600, Train Loss: 0.0832, Test Loss: 0.0936\n",
      "Train acc: 0.9790, Test acc: 0.9840\n",
      "Epoch 600/600, Train Loss: 0.0776, Test Loss: 0.0864\n",
      "Train acc: 0.9790, Test acc: 0.9787\n"
     ]
    }
   ],
   "source": [
    "n_epochs = 600\n",
    "\n",
    "train_losses = np.zeros(n_epochs)\n",
    "test_losses = np.zeros(n_epochs)\n",
    "\n",
    "train_accv = np.zeros(n_epochs)\n",
    "test_accv = np.zeros(n_epochs)\n",
    "\n",
    "for it in range(n_epochs):\n",
    "\n",
    "  optimizer.zero_grad()\n",
    "\n",
    "  outputs = model(X_train)\n",
    "\n",
    "  loss = criterion(outputs, y_train)\n",
    "    \n",
    "  loss.backward()\n",
    "\n",
    "  optimizer.step()\n",
    "\n",
    "  outputs_test = model(X_test)\n",
    "  \n",
    "  loss_test = criterion(outputs_test, y_test)\n",
    "\n",
    "  with torch.no_grad():\n",
    "    p_train = model(X_train)\n",
    "    p_train = np.round(p_train.numpy())\n",
    "    train_acc = np.mean(y_train.numpy() == p_train)\n",
    "\n",
    "    p_test = model(X_test)\n",
    "    p_test = np.round(p_test.numpy())\n",
    "    test_acc = np.mean(y_test.numpy() == p_test)\n",
    "    \n",
    "    train_accv[it] = train_acc\n",
    "  \n",
    "    test_accv[it] = test_acc\n",
    "      \n",
    "  train_losses[it] = loss.item()\n",
    " \n",
    "  test_losses[it] = loss_test.item()\n",
    "    \n",
    "  if (it + 1) % 50 == 0:\n",
    " \n",
    "    print(f'Epoch {it+1}/{n_epochs}, Train Loss: {loss.item():.4f}, Test Loss: {loss_test.item():.4f}')\n",
    "    print(f\"Train acc: {train_acc:.4f}, Test acc: {test_acc:.4f}\")\n",
    " "
   ]
  },
  {
   "cell_type": "code",
   "execution_count": 221,
   "metadata": {},
   "outputs": [
    {
     "data": {
      "image/png": "[encoded data removed]",
      "text/plain": [
       "<Figure size 432x288 with 1 Axes>"
      ]
     },
     "metadata": {
      "needs_background": "light"
     },
     "output_type": "display_data"
    }
   ],
   "source": [
    "plt.plot(train_losses, label='train loss')\n",
    "plt.plot(test_losses, label='test loss')\n",
    "plt.legend()\n",
    "plt.grid()\n",
    "plt.show()"
   ]
  },
  {
   "cell_type": "code",
   "execution_count": 222,
   "metadata": {},
   "outputs": [
    {
     "name": "stdout",
     "output_type": "stream",
     "text": [
      "Train acc: 0.9790, Test acc: 0.9787\n"
     ]
    }
   ],
   "source": [
    "with torch.no_grad():\n",
    "  p_train = model(X_train)\n",
    "  p_train = np.round(p_train.numpy())\n",
    "  train_acc = np.mean(y_train.numpy() == p_train)\n",
    "\n",
    "  p_test = model(X_test)\n",
    "  p_test = np.round(p_test.numpy())\n",
    "  test_acc = np.mean(y_test.numpy() == p_test)\n",
    "print(f\"Train acc: {train_acc:.4f}, Test acc: {test_acc:.4f}\")"
   ]
  },
  {
   "cell_type": "code",
   "execution_count": 223,
   "metadata": {},
   "outputs": [
    {
     "data": {
      "image/png": "[encoded data removed]",
      "text/plain": [
       "<Figure size 432x288 with 1 Axes>"
      ]
     },
     "metadata": {
      "needs_background": "light"
     },
     "output_type": "display_data"
    }
   ],
   "source": [
    "plt.plot(train_accv, label='train accuracy')\n",
    "plt.plot(test_accv, label='test accuracy')\n",
    "plt.legend()\n",
    "plt.grid()\n",
    "plt.show()"
   ]
  },
  {
   "cell_type": "code",
   "execution_count": 224,
   "metadata": {},
   "outputs": [
    {
     "data": {
      "text/plain": [
       "OrderedDict([('0.weight',\n",
       "              tensor([[ 0.3641,  0.1620,  0.1394,  0.0368,  0.1016,  0.1260,  0.0472,  0.0914,\n",
       "                        0.0758, -0.4102,  0.0265,  0.0595,  0.1799,  0.1006, -0.2159, -0.0921,\n",
       "                       -0.0245, -0.0130, -0.1617, -0.1445,  0.3356,  0.2696,  0.1168,  0.2263,\n",
       "                        0.3110,  0.1628,  0.1626,  0.1576,  0.2848,  0.1701],\n",
       "                      [-0.1795, -0.3727, -0.3618, -0.2010, -0.1367, -0.2195, -0.1599, -0.3423,\n",
       "                       -0.0455,  0.4061, -0.2063,  0.0838, -0.4558, -0.3362,  0.3989, -0.1524,\n",
       "                       -0.2785, -0.2720,  0.2843,  0.0088, -0.2734, -0.4055, -0.4980, -0.4031,\n",
       "                       -0.0922, -0.2456, -0.4638, -0.1243, -0.2729, -0.1395],\n",
       "                      [ 0.1795,  0.0513,  0.1548,  0.0171,  0.1550, -0.0162,  0.0438,  0.2714,\n",
       "                        0.0723, -0.1950,  0.0296,  0.1105,  0.0692,  0.2302, -0.1808, -0.0409,\n",
       "                       -0.0676, -0.0259, -0.2967, -0.2715,  0.1739,  0.1951,  0.0573,  0.1420,\n",
       "                        0.1967,  0.0270,  0.1397,  0.1865,  0.3260,  0.2286],\n",
       "                      [-0.1476, -0.3525, -0.2451, -0.3018, -0.3654, -0.1435, -0.4058, -0.3559,\n",
       "                       -0.1495,  0.3633, -0.4130, -0.0389, -0.2363, -0.5510, -0.0899,  0.2100,\n",
       "                        0.1592, -0.0861,  0.1061,  0.2729, -0.2060, -0.2539, -0.1756, -0.5153,\n",
       "                       -0.1829, -0.1238, -0.0850, -0.3866, -0.1192, -0.2033],\n",
       "                      [ 0.1859,  0.2035,  0.1352,  0.2743,  0.0880,  0.0680,  0.1513,  0.2250,\n",
       "                       -0.0221, -0.2449,  0.0334,  0.0095,  0.3345,  0.2467,  0.1477, -0.3645,\n",
       "                        0.2661,  0.3157,  0.0491, -0.2968,  0.3316,  0.1745,  0.1286,  0.2120,\n",
       "                        0.4521,  0.1629,  0.3712,  0.2813,  0.1899,  0.1361]])),\n",
       "             ('0.bias', tensor([0.2542, 0.3404, 0.1874, 0.6011, 0.3192])),\n",
       "             ('2.weight',\n",
       "              tensor([[-0.6323,  0.5880, -0.6281,  0.5942, -0.6403]])),\n",
       "             ('2.bias', tensor([0.1848]))])"
      ]
     },
     "execution_count": 224,
     "metadata": {},
     "output_type": "execute_result"
    }
   ],
   "source": [
    "model.state_dict()"
   ]
  },
  {
   "cell_type": "code",
   "execution_count": 225,
   "metadata": {},
   "outputs": [],
   "source": [
    "torch.save(model.state_dict(), 'mymodel.pt')"
   ]
  },
  {
   "cell_type": "code",
   "execution_count": 226,
   "metadata": {},
   "outputs": [
    {
     "data": {
      "text/plain": [
       "<All keys matched successfully>"
      ]
     },
     "execution_count": 226,
     "metadata": {},
     "output_type": "execute_result"
    }
   ],
   "source": [
    "model2 = nn.Sequential(\n",
    "    nn.Linear(D, 5),\n",
    "    nn.ReLU(),\n",
    "    nn.Linear(5, 1),\n",
    "    nn.Sigmoid()\n",
    ")\n",
    "model2.load_state_dict(torch.load('mymodel.pt'))"
   ]
  },
  {
   "cell_type": "code",
   "execution_count": 227,
   "metadata": {},
   "outputs": [
    {
     "name": "stdout",
     "output_type": "stream",
     "text": [
      "Train acc: 0.9790, Test acc: 0.9787\n"
     ]
    }
   ],
   "source": [
    "with torch.no_grad():\n",
    "  \n",
    "  p_train = model2(X_train)\n",
    "  p_train = np.round(p_train.numpy())\n",
    "  train_acc = np.mean(y_train.numpy() == p_train)\n",
    "\n",
    "  p_test = model2(X_test)\n",
    "  p_test = np.round(p_test.numpy())\n",
    "  test_acc = np.mean(y_test.numpy() == p_test)\n",
    "\n",
    "print(f\"Train acc: {train_acc:.4f}, Test acc: {test_acc:.4f}\")"
   ]
  }
 ],
 "metadata": {
  "interpreter": {
   "hash": "dd29c56ba2adf52c07826bc05c245baffb15e472d30979d3bfec02223da0ee11"
  },
  "kernelspec": {
   "display_name": "Python 3.9.7 64-bit",
   "language": "python",
   "name": "python3"
  },
  "language_info": {
   "codemirror_mode": {
    "name": "ipython",
    "version": 3
   },
   "file_extension": ".py",
   "mimetype": "text/x-python",
   "name": "python",
   "nbconvert_exporter": "python",
   "pygments_lexer": "ipython3",
   "version": "3.9.7"
  },
  "orig_nbformat": 4
 },
 "nbformat": 4,
 "nbformat_minor": 2
}
