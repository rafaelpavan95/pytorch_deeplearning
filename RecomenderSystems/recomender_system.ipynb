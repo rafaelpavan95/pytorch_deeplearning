{
 "cells": [
  {
   "cell_type": "markdown",
   "metadata": {},
   "source": [
    "# Recomender System"
   ]
  },
  {
   "cell_type": "code",
   "execution_count": 337,
   "metadata": {},
   "outputs": [],
   "source": [
    "import torch\n",
    "import torch.nn as nn\n",
    "import torch.nn.functional as F\n",
    "import numpy as np\n",
    "import pandas as pd\n",
    "import matplotlib.pyplot as plt\n",
    "from datetime import datetime\n",
    "from sklearn.utils import shuffle"
   ]
  },
  {
   "cell_type": "code",
   "execution_count": 314,
   "metadata": {},
   "outputs": [
    {
     "data": {
      "text/plain": [
       "500000"
      ]
     },
     "execution_count": 314,
     "metadata": {},
     "output_type": "execute_result"
    }
   ],
   "source": [
    "df = pd.read_csv('ml-20m/ratings.csv').iloc[:500000,:]\n",
    "df.head()\n",
    "\n",
    "len(df)"
   ]
  },
  {
   "cell_type": "code",
   "execution_count": 315,
   "metadata": {},
   "outputs": [
    {
     "data": {
      "text/html": [
       "<div>\n",
       "<style scoped>\n",
       "    .dataframe tbody tr th:only-of-type {\n",
       "        vertical-align: middle;\n",
       "    }\n",
       "\n",
       "    .dataframe tbody tr th {\n",
       "        vertical-align: top;\n",
       "    }\n",
       "\n",
       "    .dataframe thead th {\n",
       "        text-align: right;\n",
       "    }\n",
       "</style>\n",
       "<table border=\"1\" class=\"dataframe\">\n",
       "  <thead>\n",
       "    <tr style=\"text-align: right;\">\n",
       "      <th></th>\n",
       "      <th>userId</th>\n",
       "      <th>movieId</th>\n",
       "      <th>rating</th>\n",
       "      <th>timestamp</th>\n",
       "      <th>new_user_id</th>\n",
       "      <th>new_movie_id</th>\n",
       "    </tr>\n",
       "  </thead>\n",
       "  <tbody>\n",
       "    <tr>\n",
       "      <th>0</th>\n",
       "      <td>1</td>\n",
       "      <td>2</td>\n",
       "      <td>3.5</td>\n",
       "      <td>1112486027</td>\n",
       "      <td>0</td>\n",
       "      <td>1</td>\n",
       "    </tr>\n",
       "    <tr>\n",
       "      <th>1</th>\n",
       "      <td>1</td>\n",
       "      <td>29</td>\n",
       "      <td>3.5</td>\n",
       "      <td>1112484676</td>\n",
       "      <td>0</td>\n",
       "      <td>28</td>\n",
       "    </tr>\n",
       "    <tr>\n",
       "      <th>2</th>\n",
       "      <td>1</td>\n",
       "      <td>32</td>\n",
       "      <td>3.5</td>\n",
       "      <td>1112484819</td>\n",
       "      <td>0</td>\n",
       "      <td>31</td>\n",
       "    </tr>\n",
       "    <tr>\n",
       "      <th>3</th>\n",
       "      <td>1</td>\n",
       "      <td>47</td>\n",
       "      <td>3.5</td>\n",
       "      <td>1112484727</td>\n",
       "      <td>0</td>\n",
       "      <td>46</td>\n",
       "    </tr>\n",
       "    <tr>\n",
       "      <th>4</th>\n",
       "      <td>1</td>\n",
       "      <td>50</td>\n",
       "      <td>3.5</td>\n",
       "      <td>1112484580</td>\n",
       "      <td>0</td>\n",
       "      <td>49</td>\n",
       "    </tr>\n",
       "  </tbody>\n",
       "</table>\n",
       "</div>"
      ],
      "text/plain": [
       "  userId movieId  rating   timestamp  new_user_id  new_movie_id\n",
       "0      1       2     3.5  1112486027            0             1\n",
       "1      1      29     3.5  1112484676            0            28\n",
       "2      1      32     3.5  1112484819            0            31\n",
       "3      1      47     3.5  1112484727            0            46\n",
       "4      1      50     3.5  1112484580            0            49"
      ]
     },
     "execution_count": 315,
     "metadata": {},
     "output_type": "execute_result"
    }
   ],
   "source": [
    "df.userId = pd.Categorical(df.userId)\n",
    "df['new_user_id'] = df.userId.cat.codes\n",
    "df.movieId = pd.Categorical(df.movieId)\n",
    "df['new_movie_id'] = df.movieId.cat.codes\n",
    "\n",
    "df.head()"
   ]
  },
  {
   "cell_type": "code",
   "execution_count": 316,
   "metadata": {},
   "outputs": [],
   "source": [
    "user_ids = df['new_user_id'].values\n",
    "movie_ids = df['new_movie_id'].values\n",
    "ratings = df['rating'].values - 2.5"
   ]
  },
  {
   "cell_type": "code",
   "execution_count": 317,
   "metadata": {},
   "outputs": [],
   "source": [
    "# Get number of users and number of movies\n",
    "N = len(set(user_ids))\n",
    "M = len(set(movie_ids))\n",
    "\n",
    "# Set embedding dimension\n",
    "D = 15"
   ]
  },
  {
   "cell_type": "code",
   "execution_count": 318,
   "metadata": {},
   "outputs": [],
   "source": [
    "class Model(nn.Module):\n",
    "  def __init__(self, n_users, n_items, embed_dim, n_hidden=512):\n",
    "    super(Model, self).__init__()\n",
    "    self.N = n_users\n",
    "    self.M = n_items\n",
    "    self.D = embed_dim\n",
    "\n",
    "    self.u_emb = nn.Embedding(self.N, self.D)\n",
    "    self.m_emb = nn.Embedding(self.M, self.D)\n",
    "    self.fc1 = nn.Linear(2 * self.D, n_hidden)\n",
    "    self.fc2 = nn.Linear(n_hidden, 1)\n",
    "    \n",
    "\n",
    "    # set the weights since N(0, 1) leads to poor results\n",
    "    self.u_emb.weight.data = nn.Parameter(\n",
    "        torch.Tensor(np.random.randn(self.N, self.D) * 0.01))\n",
    "    self.m_emb.weight.data = nn.Parameter(\n",
    "        torch.Tensor(np.random.randn(self.M, self.D) * 0.01))\n",
    "  \n",
    "  def forward(self, u, m):\n",
    "    u = self.u_emb(u) # output is (num_samples, D)\n",
    "    m = self.m_emb(m) # output is (num_samples, D)\n",
    "\n",
    "    # merge\n",
    "    out = torch.cat((u, m), 1) # output is (num_samples, 2D)\n",
    "\n",
    "    # ANN\n",
    "    out = self.fc1(out)\n",
    "    out = F.dropout(out,0.25)\n",
    "    out = F.relu(out)\n",
    "    out = self.fc2(out)\n",
    "    \n",
    "    \n",
    "    return out"
   ]
  },
  {
   "cell_type": "code",
   "execution_count": 319,
   "metadata": {},
   "outputs": [
    {
     "name": "stdout",
     "output_type": "stream",
     "text": [
      "cpu\n"
     ]
    },
    {
     "data": {
      "text/plain": [
       "Model(\n",
       "  (u_emb): Embedding(3374, 15)\n",
       "  (m_emb): Embedding(12277, 15)\n",
       "  (fc1): Linear(in_features=30, out_features=512, bias=True)\n",
       "  (fc2): Linear(in_features=512, out_features=1, bias=True)\n",
       ")"
      ]
     },
     "execution_count": 319,
     "metadata": {},
     "output_type": "execute_result"
    }
   ],
   "source": [
    "device = torch.device(\"cuda:0\" if torch.cuda.is_available() else \"cpu\")\n",
    "print(device)\n",
    "model = Model(N, M, D)\n",
    "model.to(device)"
   ]
  },
  {
   "cell_type": "code",
   "execution_count": 320,
   "metadata": {},
   "outputs": [],
   "source": [
    "# Loss and optimizer\n",
    "criterion = nn.MSELoss()\n",
    "# optimizer = torch.optim.Adam(model.parameters())\n",
    "optimizer = torch.optim.SGD(model.parameters(), lr=0.01, momentum=0.9)\n"
   ]
  },
  {
   "cell_type": "code",
   "execution_count": 321,
   "metadata": {},
   "outputs": [],
   "source": [
    "def batch_gd2(model, criterion, optimizer, train_data, test_data, epochs, bs=512):\n",
    "  train_users, train_movies, train_ratings = train_data\n",
    "  test_users, test_movies, test_ratings = test_data\n",
    "\n",
    "  train_losses = np.zeros(epochs)\n",
    "  test_losses = np.zeros(epochs)\n",
    "\n",
    "  # batches per epoch\n",
    "  Ntrain = len(train_users)\n",
    "  batches_per_epoch = int(np.ceil(Ntrain / bs))\n",
    "\n",
    "  for it in range(epochs):\n",
    " \n",
    "    train_loss = []\n",
    "\n",
    "    # shuffle each batch\n",
    "    train_users, train_movies, train_ratings = shuffle(\n",
    "        train_users, train_movies, train_ratings\n",
    "    )\n",
    "\n",
    "    for j in range(batches_per_epoch):\n",
    "      # get the batch\n",
    "      users = train_users[j*bs:(j+1)*bs]\n",
    "      movies = train_movies[j*bs:(j+1)*bs]\n",
    "      targets = train_ratings[j*bs:(j+1)*bs]\n",
    "\n",
    "      # conver to tensor\n",
    "      users = torch.from_numpy(users).long()\n",
    "      movies = torch.from_numpy(movies).long()\n",
    "      targets = torch.from_numpy(targets)\n",
    "    \n",
    "      # reshape targets\n",
    "      targets = targets.view(-1, 1).float()\n",
    "\n",
    "      # move data to GPU\n",
    "      users, movies, targets = users.to(device), movies.to(device), targets.to(device)\n",
    "\n",
    "      # zero the parameter gradients\n",
    "      optimizer.zero_grad()\n",
    "\n",
    "      # Forward pass\n",
    "      outputs = model(users, movies)\n",
    "      loss = criterion(outputs, targets)\n",
    "        \n",
    "      # Backward and optimize\n",
    "      loss.backward()\n",
    "      optimizer.step()\n",
    "\n",
    "      train_loss.append(loss.item())\n",
    "\n",
    "    # Get train loss and test loss\n",
    "    train_loss = np.mean(train_loss) # a little misleading\n",
    "    \n",
    "    # we could do this if the test set size was manageable\n",
    "    # test_outputs = model(test_users, test_movies)\n",
    "    # test_loss = criterion(test_outputs, test_ratings).item()\n",
    "    test_loss = []\n",
    "    for j in range(int(np.ceil(len(test_users) / bs))):\n",
    "      # get the batch\n",
    "      users = test_users[j*bs:(j+1)*bs]\n",
    "      movies = test_movies[j*bs:(j+1)*bs]\n",
    "      targets = test_ratings[j*bs:(j+1)*bs]\n",
    "\n",
    "      # conver to tensor\n",
    "      users = torch.from_numpy(users).long()\n",
    "      movies = torch.from_numpy(movies).long()\n",
    "      targets = torch.from_numpy(targets)\n",
    "    \n",
    "      # reshape targets\n",
    "      targets = targets.view(-1, 1).float()\n",
    "\n",
    "      # move data to GPU\n",
    "      users, movies, targets = users.to(device), movies.to(device), targets.to(device)\n",
    "\n",
    "      outputs = model(users, movies)\n",
    "      loss = criterion(outputs, targets).item()\n",
    "      test_loss.append(loss)\n",
    "    test_loss = np.mean(test_loss)\n",
    "\n",
    "    # Save losses\n",
    "    train_losses[it] = train_loss\n",
    "    test_losses[it] = test_loss\n",
    "    \n",
    "    print(f'Epoch {it+1}/{epochs}, Train Loss: {train_loss:.4f}, '\n",
    "          f'Test Loss: {test_loss:.4f}')\n",
    "  \n",
    "  return train_losses, test_losses"
   ]
  },
  {
   "cell_type": "code",
   "execution_count": 322,
   "metadata": {},
   "outputs": [],
   "source": [
    "user_ids, movie_ids, ratings = shuffle(user_ids, movie_ids, ratings)"
   ]
  },
  {
   "cell_type": "code",
   "execution_count": 323,
   "metadata": {},
   "outputs": [
    {
     "name": "stdout",
     "output_type": "stream",
     "text": [
      "Epoch 1/25, Train Loss: 1.0783, Test Loss: 0.9215\n",
      "Epoch 2/25, Train Loss: 0.8284, Test Loss: 0.7943\n",
      "Epoch 3/25, Train Loss: 0.7699, Test Loss: 0.7757\n",
      "Epoch 4/25, Train Loss: 0.7510, Test Loss: 0.7673\n",
      "Epoch 5/25, Train Loss: 0.7378, Test Loss: 0.7586\n",
      "Epoch 6/25, Train Loss: 0.7257, Test Loss: 0.7519\n",
      "Epoch 7/25, Train Loss: 0.7147, Test Loss: 0.7461\n",
      "Epoch 8/25, Train Loss: 0.7061, Test Loss: 0.7424\n",
      "Epoch 9/25, Train Loss: 0.7000, Test Loss: 0.7392\n",
      "Epoch 10/25, Train Loss: 0.6955, Test Loss: 0.7368\n",
      "Epoch 11/25, Train Loss: 0.6913, Test Loss: 0.7382\n",
      "Epoch 12/25, Train Loss: 0.6870, Test Loss: 0.7344\n",
      "Epoch 13/25, Train Loss: 0.6836, Test Loss: 0.7361\n",
      "Epoch 14/25, Train Loss: 0.6804, Test Loss: 0.7363\n",
      "Epoch 15/25, Train Loss: 0.6771, Test Loss: 0.7337\n",
      "Epoch 16/25, Train Loss: 0.6747, Test Loss: 0.7335\n",
      "Epoch 17/25, Train Loss: 0.6726, Test Loss: 0.7299\n",
      "Epoch 18/25, Train Loss: 0.6690, Test Loss: 0.7299\n",
      "Epoch 19/25, Train Loss: 0.6666, Test Loss: 0.7309\n",
      "Epoch 20/25, Train Loss: 0.6637, Test Loss: 0.7288\n",
      "Epoch 21/25, Train Loss: 0.6601, Test Loss: 0.7266\n",
      "Epoch 22/25, Train Loss: 0.6570, Test Loss: 0.7235\n",
      "Epoch 23/25, Train Loss: 0.6535, Test Loss: 0.7222\n",
      "Epoch 24/25, Train Loss: 0.6499, Test Loss: 0.7221\n",
      "Epoch 25/25, Train Loss: 0.6462, Test Loss: 0.7194\n"
     ]
    }
   ],
   "source": [
    "Ntrain = int(0.8 * len(ratings))\n",
    "train_users = user_ids[:Ntrain]\n",
    "train_movies = movie_ids[:Ntrain]\n",
    "train_ratings = ratings[:Ntrain]\n",
    "\n",
    "test_users = user_ids[Ntrain:]\n",
    "test_movies = movie_ids[Ntrain:]\n",
    "test_ratings = ratings[Ntrain:]\n",
    "\n",
    "train_losses, test_losses = batch_gd2(\n",
    "    model,\n",
    "    criterion,\n",
    "    optimizer,\n",
    "    (train_users, train_movies, train_ratings),\n",
    "    (test_users, test_movies, test_ratings),\n",
    "    epochs=25)"
   ]
  },
  {
   "cell_type": "code",
   "execution_count": 324,
   "metadata": {},
   "outputs": [
    {
     "data": {
      "image/png": "[encoded data removed]",
      "text/plain": [
       "<Figure size 432x288 with 1 Axes>"
      ]
     },
     "metadata": {
      "needs_background": "light"
     },
     "output_type": "display_data"
    }
   ],
   "source": [
    "# Plot the train loss and test loss per iteration\n",
    "plt.plot(train_losses, label='train loss')\n",
    "plt.plot(test_losses, label='test loss')\n",
    "plt.legend()\n",
    "plt.grid()\n",
    "plt.show()"
   ]
  },
  {
   "cell_type": "code",
   "execution_count": 349,
   "metadata": {},
   "outputs": [],
   "source": [
    "watched_movie_ids = df[df.new_user_id == 10].new_movie_id.values"
   ]
  },
  {
   "cell_type": "code",
   "execution_count": 350,
   "metadata": {},
   "outputs": [
    {
     "data": {
      "text/plain": [
       "array([    0,     9,    18,    31,    38,    64,   107,   138,   143,\n",
       "         146,   151,   153,   158,   163,   165,   166,   178,   201,\n",
       "         223,   245,   248,   252,   278,   288,   308,   310,   335,\n",
       "         347,   355,   358,   368,   371,   375,   391,   396,   427,\n",
       "         428,   466,   486,   505,   513,   516,   526,   531,   536,\n",
       "         566,   567,   568,   569,   572,   573,   575,   577,   586,\n",
       "         588,   589,   594,   605,   618,   623,   638,   640,   698,\n",
       "         701,   720,   737,   741,   779,   809,   826,   913,   969,\n",
       "         970,   973,   977,   987,  1004,  1012,  1015,  1031,  1035,\n",
       "        1069,  1096,  1097,  1122,  1123,  1124,  1126,  1135,  1138,\n",
       "        1139,  1140,  1150,  1163,  1176,  1178,  1193,  1197,  1214,\n",
       "        1242,  1243,  1260,  1287,  1305,  1309,  1346,  1423,  1435,\n",
       "        1462,  1466,  1473,  1529,  1551,  1563,  1565,  1586,  1606,\n",
       "        1688,  1700,  1706,  1739,  1783,  1799,  1804,  1826,  1833,\n",
       "        1834,  1840,  1845,  1850,  1863,  1926,  1928,  1944,  1945,\n",
       "        1955,  1961,  1964,  1974,  2045,  2053,  2103,  2106,  2124,\n",
       "        2164,  2187,  2205,  2229,  2237,  2262,  2376,  2377,  2403,\n",
       "        2427,  2440,  2441,  2480,  2485,  2501,  2511,  2512,  2515,\n",
       "        2517,  2554,  2555,  2586,  2603,  2620,  2631,  2648,  2705,\n",
       "        2745,  2770,  2775,  2785,  2816,  2837,  2863,  2893,  2894,\n",
       "        2938,  2985,  3009,  3031,  3057,  3138,  3176,  3259,  3261,\n",
       "        3267,  3306,  3418,  3423,  3424,  3425,  3466,  3473,  3474,\n",
       "        3512,  3542,  3575,  3576,  3599,  3604,  3672,  3682,  3690,\n",
       "        3693,  3696,  3707,  3715,  3751,  3753,  3800,  3827,  3915,\n",
       "        3920,  3923,  3934,  3948,  3983,  3988,  4019,  4021,  4042,\n",
       "        4046,  4062,  4119,  4162,  4203,  4239,  4304,  4309,  4382,\n",
       "        4446,  4500,  4514,  4523,  4529,  4536,  4604,  4605,  4624,\n",
       "        4626,  4676,  4771,  4772,  4791,  4832,  4833,  4838,  4870,\n",
       "        4884,  4900,  4922,  4943,  4969,  4970,  4990,  5030,  5031,\n",
       "        5044,  5048,  5086,  5185,  5230,  5319,  5347,  5401,  5420,\n",
       "        5459,  5477,  5512,  5576,  5702,  5713,  5727,  5728,  5732,\n",
       "        5736,  5738,  5775,  5800,  5811,  5812,  5816,  5915,  5916,\n",
       "        5942,  5945,  5947,  5949,  5955,  5987,  6013,  6038,  6079,\n",
       "        6095,  6151,  6209,  6218,  6262,  6276,  6300,  6317,  6343,\n",
       "        6417,  6463,  6473,  6480,  6545,  6571,  6613,  6626,  6679,\n",
       "        6682,  6693,  6701,  6716,  6844,  6845,  6964,  7025,  7032,\n",
       "        7035,  7127,  7158,  7166,  7169,  7170,  7173,  7281,  7289,\n",
       "        7326,  7329,  7334,  7361,  7409,  7416,  7417,  7420,  7684,\n",
       "        7703,  7791,  7793,  7851,  7856,  7864,  7879,  7903,  7915,\n",
       "        7931,  7952,  7979,  7994,  8000,  8007,  8010,  8050,  8080,\n",
       "        8095,  8096,  8104,  8105,  8125,  8144,  8167,  8244,  8256,\n",
       "        8276,  8282,  8292,  8297,  8307,  8330,  8337,  8349,  8355,\n",
       "        8357,  8376,  8390,  8399,  8400,  8417,  8423,  8426,  8443,\n",
       "        8502,  8516,  8560,  8561,  8562,  8605,  8631,  8635,  8666,\n",
       "        8668,  8670,  8680,  8681,  8687,  8710,  8716,  8719,  8747,\n",
       "        8753,  8769,  8790,  8794,  8825,  8906,  8912,  8916,  8934,\n",
       "        8937,  8948,  8957,  8964,  9018,  9026,  9056,  9084,  9099,\n",
       "        9100,  9103,  9127,  9130,  9134,  9160,  9168,  9175,  9182,\n",
       "        9202,  9223,  9229,  9231,  9248,  9270,  9285,  9307,  9311,\n",
       "        9328,  9350,  9375,  9377,  9387,  9394,  9396,  9420,  9424,\n",
       "        9435,  9439,  9445,  9455,  9464,  9472,  9477,  9492,  9519,\n",
       "        9524,  9546,  9569,  9575,  9580,  9591,  9617,  9618,  9621,\n",
       "        9629,  9656,  9657,  9659,  9669,  9677,  9682,  9710,  9734,\n",
       "        9764,  9799,  9834,  9840,  9853,  9856,  9860,  9874,  9875,\n",
       "        9876,  9905,  9950,  9957,  9997, 10002, 10005, 10021, 10023,\n",
       "       10044, 10047, 10128, 10155, 10171, 10178, 10246, 10351, 10811],\n",
       "      dtype=int16)"
      ]
     },
     "execution_count": 350,
     "metadata": {},
     "output_type": "execute_result"
    }
   ],
   "source": [
    "watched_movie_ids"
   ]
  },
  {
   "cell_type": "code",
   "execution_count": 360,
   "metadata": {},
   "outputs": [],
   "source": [
    "commom_movies =  df[df.new_movie_id.isin(watched_movie_ids)].new_movie_id.unique()\n",
    "potential_movie_ids = df[~df.new_movie_id.isin(watched_movie_ids)].new_movie_id.unique()"
   ]
  },
  {
   "cell_type": "code",
   "execution_count": 353,
   "metadata": {},
   "outputs": [
    {
     "data": {
      "text/plain": [
       "array([    1,    28,    46, ..., 12228, 12262, 12263], dtype=int16)"
      ]
     },
     "execution_count": 353,
     "metadata": {},
     "output_type": "execute_result"
    }
   ],
   "source": [
    "len(set(potential_movie_ids))\n",
    "\n",
    "potential_movie_ids"
   ]
  },
  {
   "cell_type": "code",
   "execution_count": 354,
   "metadata": {},
   "outputs": [
    {
     "data": {
      "text/plain": [
       "11773"
      ]
     },
     "execution_count": 354,
     "metadata": {},
     "output_type": "execute_result"
    }
   ],
   "source": [
    "user_id_to_recommend = np.ones_like(potential_movie_ids)*10\n",
    "\n",
    "len(user_id_to_recommend)"
   ]
  },
  {
   "cell_type": "code",
   "execution_count": 355,
   "metadata": {},
   "outputs": [],
   "source": [
    "t_user_ids = torch.from_numpy(user_id_to_recommend).long().to(device)\n",
    "t_movie_ids = torch.from_numpy(potential_movie_ids).long().to(device)\n",
    "\n",
    "# Get predictions\n",
    "with torch.no_grad():\n",
    "  predictions = model(t_user_ids, t_movie_ids)"
   ]
  },
  {
   "cell_type": "code",
   "execution_count": 356,
   "metadata": {},
   "outputs": [],
   "source": [
    "# Convert predictions to Numpy\n",
    "predictions_np = predictions.cpu().numpy().flatten()\n",
    "\n",
    "# Get sort index for predictions\n",
    "sort_idx = np.argsort(-predictions_np)"
   ]
  },
  {
   "cell_type": "code",
   "execution_count": 357,
   "metadata": {},
   "outputs": [
    {
     "data": {
      "text/plain": [
       "array([1.6766009, 1.6732798, 1.9299831, ..., 1.7275338, 1.6960481,\n",
       "       1.4387869], dtype=float32)"
      ]
     },
     "execution_count": 357,
     "metadata": {},
     "output_type": "execute_result"
    }
   ],
   "source": [
    "predictions_np"
   ]
  },
  {
   "cell_type": "code",
   "execution_count": 358,
   "metadata": {},
   "outputs": [
    {
     "data": {
      "text/plain": [
       "array([1583, 3270, 2491, ..., 4781, 9282, 6433], dtype=int64)"
      ]
     },
     "execution_count": 358,
     "metadata": {},
     "output_type": "execute_result"
    }
   ],
   "source": [
    "sort_idx"
   ]
  },
  {
   "cell_type": "code",
   "execution_count": 359,
   "metadata": {},
   "outputs": [
    {
     "name": "stdout",
     "output_type": "stream",
     "text": [
      "movie: 10648 score: 2.4482117\n",
      "movie: 6947 score: 2.3977718\n",
      "movie: 3037 score: 2.3647542\n",
      "movie: 2423 score: 2.333911\n",
      "movie: 11141 score: 2.3294787\n",
      "movie: 2976 score: 2.3138437\n",
      "movie: 8362 score: 2.3094692\n",
      "movie: 7843 score: 2.2904353\n",
      "movie: 11064 score: 2.2882392\n",
      "movie: 7981 score: 2.2836423\n"
     ]
    }
   ],
   "source": [
    "# Top 10 predictions\n",
    "top_10_movie_ids = potential_movie_ids[sort_idx[:10]]\n",
    "top_10_scores = predictions_np[sort_idx[:10]]\n",
    "\n",
    " \n",
    "\n",
    "for movie, score in zip(top_10_movie_ids, top_10_scores):\n",
    "  print(\"movie:\", movie, \"score:\", score)"
   ]
  },
  {
   "cell_type": "code",
   "execution_count": 335,
   "metadata": {},
   "outputs": [
    {
     "data": {
      "text/html": [
       "<div>\n",
       "<style scoped>\n",
       "    .dataframe tbody tr th:only-of-type {\n",
       "        vertical-align: middle;\n",
       "    }\n",
       "\n",
       "    .dataframe tbody tr th {\n",
       "        vertical-align: top;\n",
       "    }\n",
       "\n",
       "    .dataframe thead th {\n",
       "        text-align: right;\n",
       "    }\n",
       "</style>\n",
       "<table border=\"1\" class=\"dataframe\">\n",
       "  <thead>\n",
       "    <tr style=\"text-align: right;\">\n",
       "      <th></th>\n",
       "      <th>movieId</th>\n",
       "      <th>title</th>\n",
       "      <th>genres</th>\n",
       "      <th>new_movie_id</th>\n",
       "    </tr>\n",
       "  </thead>\n",
       "  <tbody>\n",
       "    <tr>\n",
       "      <th>0</th>\n",
       "      <td>1</td>\n",
       "      <td>Toy Story (1995)</td>\n",
       "      <td>Adventure|Animation|Children|Comedy|Fantasy</td>\n",
       "      <td>0</td>\n",
       "    </tr>\n",
       "    <tr>\n",
       "      <th>1</th>\n",
       "      <td>2</td>\n",
       "      <td>Jumanji (1995)</td>\n",
       "      <td>Adventure|Children|Fantasy</td>\n",
       "      <td>1</td>\n",
       "    </tr>\n",
       "    <tr>\n",
       "      <th>2</th>\n",
       "      <td>3</td>\n",
       "      <td>Grumpier Old Men (1995)</td>\n",
       "      <td>Comedy|Romance</td>\n",
       "      <td>2</td>\n",
       "    </tr>\n",
       "    <tr>\n",
       "      <th>3</th>\n",
       "      <td>4</td>\n",
       "      <td>Waiting to Exhale (1995)</td>\n",
       "      <td>Comedy|Drama|Romance</td>\n",
       "      <td>3</td>\n",
       "    </tr>\n",
       "    <tr>\n",
       "      <th>4</th>\n",
       "      <td>5</td>\n",
       "      <td>Father of the Bride Part II (1995)</td>\n",
       "      <td>Comedy</td>\n",
       "      <td>4</td>\n",
       "    </tr>\n",
       "  </tbody>\n",
       "</table>\n",
       "</div>"
      ],
      "text/plain": [
       "  movieId                               title  \\\n",
       "0       1                    Toy Story (1995)   \n",
       "1       2                      Jumanji (1995)   \n",
       "2       3             Grumpier Old Men (1995)   \n",
       "3       4            Waiting to Exhale (1995)   \n",
       "4       5  Father of the Bride Part II (1995)   \n",
       "\n",
       "                                        genres  new_movie_id  \n",
       "0  Adventure|Animation|Children|Comedy|Fantasy             0  \n",
       "1                   Adventure|Children|Fantasy             1  \n",
       "2                               Comedy|Romance             2  \n",
       "3                         Comedy|Drama|Romance             3  \n",
       "4                                       Comedy             4  "
      ]
     },
     "execution_count": 335,
     "metadata": {},
     "output_type": "execute_result"
    }
   ],
   "source": [
    "movies = pd.read_csv('ml-20m/movies.csv')\n",
    "movies.movieId = pd.Categorical(movies.movieId)\n",
    "movies['new_movie_id'] = movies.movieId.cat.codes\n",
    "movies.head()"
   ]
  },
  {
   "cell_type": "code",
   "execution_count": 348,
   "metadata": {},
   "outputs": [
    {
     "data": {
      "text/html": [
       "<div>\n",
       "<style scoped>\n",
       "    .dataframe tbody tr th:only-of-type {\n",
       "        vertical-align: middle;\n",
       "    }\n",
       "\n",
       "    .dataframe tbody tr th {\n",
       "        vertical-align: top;\n",
       "    }\n",
       "\n",
       "    .dataframe thead th {\n",
       "        text-align: right;\n",
       "    }\n",
       "</style>\n",
       "<table border=\"1\" class=\"dataframe\">\n",
       "  <thead>\n",
       "    <tr style=\"text-align: right;\">\n",
       "      <th></th>\n",
       "      <th>movieId</th>\n",
       "      <th>title</th>\n",
       "      <th>genres</th>\n",
       "      <th>new_movie_id</th>\n",
       "    </tr>\n",
       "  </thead>\n",
       "  <tbody>\n",
       "    <tr>\n",
       "      <th>2344</th>\n",
       "      <td>2429</td>\n",
       "      <td>Mighty Joe Young (1998)</td>\n",
       "      <td>Action|Adventure|Drama|Fantasy|Thriller</td>\n",
       "      <td>2344</td>\n",
       "    </tr>\n",
       "    <tr>\n",
       "      <th>2423</th>\n",
       "      <td>2508</td>\n",
       "      <td>Breaks, The (1999)</td>\n",
       "      <td>Comedy</td>\n",
       "      <td>2423</td>\n",
       "    </tr>\n",
       "    <tr>\n",
       "      <th>2726</th>\n",
       "      <td>2812</td>\n",
       "      <td>In Too Deep (1999)</td>\n",
       "      <td>Action|Thriller</td>\n",
       "      <td>2726</td>\n",
       "    </tr>\n",
       "    <tr>\n",
       "      <th>5176</th>\n",
       "      <td>5273</td>\n",
       "      <td>Very Annie Mary (2001)</td>\n",
       "      <td>Comedy|Musical</td>\n",
       "      <td>5176</td>\n",
       "    </tr>\n",
       "    <tr>\n",
       "      <th>6260</th>\n",
       "      <td>6365</td>\n",
       "      <td>Matrix Reloaded, The (2003)</td>\n",
       "      <td>Action|Adventure|Sci-Fi|Thriller|IMAX</td>\n",
       "      <td>6260</td>\n",
       "    </tr>\n",
       "    <tr>\n",
       "      <th>6713</th>\n",
       "      <td>6823</td>\n",
       "      <td>Under Suspicion (1992)</td>\n",
       "      <td>Crime|Drama|Thriller</td>\n",
       "      <td>6713</td>\n",
       "    </tr>\n",
       "    <tr>\n",
       "      <th>6876</th>\n",
       "      <td>6988</td>\n",
       "      <td>Broken Blossoms or The Yellow Man and the Girl...</td>\n",
       "      <td>Drama|Romance</td>\n",
       "      <td>6876</td>\n",
       "    </tr>\n",
       "    <tr>\n",
       "      <th>7709</th>\n",
       "      <td>8228</td>\n",
       "      <td>Maltese Falcon, The (a.k.a. Dangerous Female) ...</td>\n",
       "      <td>Mystery</td>\n",
       "      <td>7709</td>\n",
       "    </tr>\n",
       "    <tr>\n",
       "      <th>10563</th>\n",
       "      <td>40291</td>\n",
       "      <td>Siblings (2004)</td>\n",
       "      <td>Comedy</td>\n",
       "      <td>10563</td>\n",
       "    </tr>\n",
       "    <tr>\n",
       "      <th>10989</th>\n",
       "      <td>45081</td>\n",
       "      <td>Silent Hill (2006)</td>\n",
       "      <td>Fantasy|Horror|Thriller</td>\n",
       "      <td>10989</td>\n",
       "    </tr>\n",
       "  </tbody>\n",
       "</table>\n",
       "</div>"
      ],
      "text/plain": [
       "      movieId                                              title  \\\n",
       "2344     2429                            Mighty Joe Young (1998)   \n",
       "2423     2508                                 Breaks, The (1999)   \n",
       "2726     2812                                 In Too Deep (1999)   \n",
       "5176     5273                             Very Annie Mary (2001)   \n",
       "6260     6365                        Matrix Reloaded, The (2003)   \n",
       "6713     6823                             Under Suspicion (1992)   \n",
       "6876     6988  Broken Blossoms or The Yellow Man and the Girl...   \n",
       "7709     8228  Maltese Falcon, The (a.k.a. Dangerous Female) ...   \n",
       "10563   40291                                    Siblings (2004)   \n",
       "10989   45081                                 Silent Hill (2006)   \n",
       "\n",
       "                                        genres  new_movie_id  \n",
       "2344   Action|Adventure|Drama|Fantasy|Thriller          2344  \n",
       "2423                                    Comedy          2423  \n",
       "2726                           Action|Thriller          2726  \n",
       "5176                            Comedy|Musical          5176  \n",
       "6260     Action|Adventure|Sci-Fi|Thriller|IMAX          6260  \n",
       "6713                      Crime|Drama|Thriller          6713  \n",
       "6876                             Drama|Romance          6876  \n",
       "7709                                   Mystery          7709  \n",
       "10563                                   Comedy         10563  \n",
       "10989                  Fantasy|Horror|Thriller         10989  "
      ]
     },
     "execution_count": 348,
     "metadata": {},
     "output_type": "execute_result"
    }
   ],
   "source": [
    "movies[movies['new_movie_id'].isin(top_10_movie_ids)]"
   ]
  },
  {
   "cell_type": "code",
   "execution_count": 361,
   "metadata": {},
   "outputs": [
    {
     "data": {
      "text/html": [
       "<div>\n",
       "<style scoped>\n",
       "    .dataframe tbody tr th:only-of-type {\n",
       "        vertical-align: middle;\n",
       "    }\n",
       "\n",
       "    .dataframe tbody tr th {\n",
       "        vertical-align: top;\n",
       "    }\n",
       "\n",
       "    .dataframe thead th {\n",
       "        text-align: right;\n",
       "    }\n",
       "</style>\n",
       "<table border=\"1\" class=\"dataframe\">\n",
       "  <thead>\n",
       "    <tr style=\"text-align: right;\">\n",
       "      <th></th>\n",
       "      <th>movieId</th>\n",
       "      <th>title</th>\n",
       "      <th>genres</th>\n",
       "      <th>new_movie_id</th>\n",
       "    </tr>\n",
       "  </thead>\n",
       "  <tbody>\n",
       "    <tr>\n",
       "      <th>0</th>\n",
       "      <td>1</td>\n",
       "      <td>Toy Story (1995)</td>\n",
       "      <td>Adventure|Animation|Children|Comedy|Fantasy</td>\n",
       "      <td>0</td>\n",
       "    </tr>\n",
       "    <tr>\n",
       "      <th>9</th>\n",
       "      <td>10</td>\n",
       "      <td>GoldenEye (1995)</td>\n",
       "      <td>Action|Adventure|Thriller</td>\n",
       "      <td>9</td>\n",
       "    </tr>\n",
       "    <tr>\n",
       "      <th>18</th>\n",
       "      <td>19</td>\n",
       "      <td>Ace Ventura: When Nature Calls (1995)</td>\n",
       "      <td>Comedy</td>\n",
       "      <td>18</td>\n",
       "    </tr>\n",
       "    <tr>\n",
       "      <th>31</th>\n",
       "      <td>32</td>\n",
       "      <td>Twelve Monkeys (a.k.a. 12 Monkeys) (1995)</td>\n",
       "      <td>Mystery|Sci-Fi|Thriller</td>\n",
       "      <td>31</td>\n",
       "    </tr>\n",
       "    <tr>\n",
       "      <th>38</th>\n",
       "      <td>39</td>\n",
       "      <td>Clueless (1995)</td>\n",
       "      <td>Comedy|Romance</td>\n",
       "      <td>38</td>\n",
       "    </tr>\n",
       "    <tr>\n",
       "      <th>...</th>\n",
       "      <td>...</td>\n",
       "      <td>...</td>\n",
       "      <td>...</td>\n",
       "      <td>...</td>\n",
       "    </tr>\n",
       "    <tr>\n",
       "      <th>10171</th>\n",
       "      <td>33801</td>\n",
       "      <td>Godzilla: Final Wars (Gojira: Fainaru uôzu) (2...</td>\n",
       "      <td>Action|Adventure|Fantasy|Sci-Fi</td>\n",
       "      <td>10171</td>\n",
       "    </tr>\n",
       "    <tr>\n",
       "      <th>10178</th>\n",
       "      <td>33826</td>\n",
       "      <td>Saint Ralph (2004)</td>\n",
       "      <td>Comedy|Drama</td>\n",
       "      <td>10178</td>\n",
       "    </tr>\n",
       "    <tr>\n",
       "      <th>10246</th>\n",
       "      <td>34185</td>\n",
       "      <td>Staying Together (1989)</td>\n",
       "      <td>Comedy|Drama</td>\n",
       "      <td>10246</td>\n",
       "    </tr>\n",
       "    <tr>\n",
       "      <th>10351</th>\n",
       "      <td>35957</td>\n",
       "      <td>Red Eye (2005)</td>\n",
       "      <td>Horror|Thriller</td>\n",
       "      <td>10351</td>\n",
       "    </tr>\n",
       "    <tr>\n",
       "      <th>10811</th>\n",
       "      <td>43567</td>\n",
       "      <td>Sweet November (1968)</td>\n",
       "      <td>Drama</td>\n",
       "      <td>10811</td>\n",
       "    </tr>\n",
       "  </tbody>\n",
       "</table>\n",
       "<p>504 rows × 4 columns</p>\n",
       "</div>"
      ],
      "text/plain": [
       "      movieId                                              title  \\\n",
       "0           1                                   Toy Story (1995)   \n",
       "9          10                                   GoldenEye (1995)   \n",
       "18         19              Ace Ventura: When Nature Calls (1995)   \n",
       "31         32          Twelve Monkeys (a.k.a. 12 Monkeys) (1995)   \n",
       "38         39                                    Clueless (1995)   \n",
       "...       ...                                                ...   \n",
       "10171   33801  Godzilla: Final Wars (Gojira: Fainaru uôzu) (2...   \n",
       "10178   33826                                 Saint Ralph (2004)   \n",
       "10246   34185                            Staying Together (1989)   \n",
       "10351   35957                                     Red Eye (2005)   \n",
       "10811   43567                              Sweet November (1968)   \n",
       "\n",
       "                                            genres  new_movie_id  \n",
       "0      Adventure|Animation|Children|Comedy|Fantasy             0  \n",
       "9                        Action|Adventure|Thriller             9  \n",
       "18                                          Comedy            18  \n",
       "31                         Mystery|Sci-Fi|Thriller            31  \n",
       "38                                  Comedy|Romance            38  \n",
       "...                                            ...           ...  \n",
       "10171              Action|Adventure|Fantasy|Sci-Fi         10171  \n",
       "10178                                 Comedy|Drama         10178  \n",
       "10246                                 Comedy|Drama         10246  \n",
       "10351                              Horror|Thriller         10351  \n",
       "10811                                        Drama         10811  \n",
       "\n",
       "[504 rows x 4 columns]"
      ]
     },
     "execution_count": 361,
     "metadata": {},
     "output_type": "execute_result"
    }
   ],
   "source": [
    "movies[movies['new_movie_id'].isin(commom_movies)]"
   ]
  }
 ],
 "metadata": {
  "interpreter": {
   "hash": "57baa5815c940fdaff4d14510622de9616cae602444507ba5d0b6727c008cbd6"
  },
  "kernelspec": {
   "display_name": "Python 3.7.8 64-bit",
   "language": "python",
   "name": "python3"
  },
  "language_info": {
   "codemirror_mode": {
    "name": "ipython",
    "version": 3
   },
   "file_extension": ".py",
   "mimetype": "text/x-python",
   "name": "python",
   "nbconvert_exporter": "python",
   "pygments_lexer": "ipython3",
   "version": "3.9.7"
  },
  "orig_nbformat": 4
 },
 "nbformat": 4,
 "nbformat_minor": 2
}
