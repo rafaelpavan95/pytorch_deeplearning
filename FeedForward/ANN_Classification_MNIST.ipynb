{
 "cells": [
  {
   "cell_type": "markdown",
   "metadata": {},
   "source": [
    "# Classification of Digits - MNIST"
   ]
  },
  {
   "cell_type": "code",
   "execution_count": 65,
   "metadata": {},
   "outputs": [],
   "source": [
    "import numpy as np\n",
    "import matplotlib.pyplot as plt\n",
    "import pandas as pd\n",
    "import torch\n",
    "import torch.nn as nn\n",
    "import torchvision\n",
    "import torchvision.transforms as transforms"
   ]
  },
  {
   "cell_type": "code",
   "execution_count": 66,
   "metadata": {},
   "outputs": [],
   "source": [
    "train_data = torchvision.datasets.MNIST(root='.', train=True, transform=transforms.ToTensor(), download = True)"
   ]
  },
  {
   "cell_type": "code",
   "execution_count": 67,
   "metadata": {},
   "outputs": [],
   "source": [
    "test_data = torchvision.datasets.MNIST(root='.', train=False, transform=transforms.ToTensor(), download = True)"
   ]
  },
  {
   "cell_type": "code",
   "execution_count": 68,
   "metadata": {},
   "outputs": [
    {
     "data": {
      "text/plain": [
       "torch.Size([60000, 28, 28])"
      ]
     },
     "execution_count": 68,
     "metadata": {},
     "output_type": "execute_result"
    }
   ],
   "source": [
    "train_data.data.shape"
   ]
  },
  {
   "cell_type": "code",
   "execution_count": 69,
   "metadata": {},
   "outputs": [
    {
     "data": {
      "text/plain": [
       "torch.Size([10000, 28, 28])"
      ]
     },
     "execution_count": 69,
     "metadata": {},
     "output_type": "execute_result"
    }
   ],
   "source": [
    "test_data.data.shape"
   ]
  },
  {
   "cell_type": "code",
   "execution_count": 70,
   "metadata": {},
   "outputs": [
    {
     "data": {
      "text/plain": [
       "tensor(255, dtype=torch.uint8)"
      ]
     },
     "execution_count": 70,
     "metadata": {},
     "output_type": "execute_result"
    }
   ],
   "source": [
    "train_data.data.max()"
   ]
  },
  {
   "cell_type": "code",
   "execution_count": 71,
   "metadata": {},
   "outputs": [],
   "source": [
    "model = nn.Sequential(\n",
    "                        nn.Linear(784,128),\n",
    "                        nn.ReLU(),\n",
    "                        nn.Linear(128,10)                              \n",
    "                    )"
   ]
  },
  {
   "cell_type": "code",
   "execution_count": 72,
   "metadata": {},
   "outputs": [
    {
     "name": "stdout",
     "output_type": "stream",
     "text": [
      "cpu\n"
     ]
    }
   ],
   "source": [
    "device = torch.device(\"cuda:0\" if torch.cuda.is_available() else 'cpu')\n",
    "\n",
    "print(device)"
   ]
  },
  {
   "cell_type": "code",
   "execution_count": 73,
   "metadata": {},
   "outputs": [
    {
     "data": {
      "text/plain": [
       "Sequential(\n",
       "  (0): Linear(in_features=784, out_features=128, bias=True)\n",
       "  (1): ReLU()\n",
       "  (2): Linear(in_features=128, out_features=10, bias=True)\n",
       ")"
      ]
     },
     "execution_count": 73,
     "metadata": {},
     "output_type": "execute_result"
    }
   ],
   "source": [
    "model.to(device)"
   ]
  },
  {
   "cell_type": "code",
   "execution_count": 74,
   "metadata": {},
   "outputs": [],
   "source": [
    "criterion = nn.CrossEntropyLoss()\n",
    "\n",
    "optimizer = torch.optim.Adam(model.parameters())\n",
    "\n",
    "batch_size = 128\n",
    "\n",
    "train_loader = torch.utils.data.DataLoader(dataset=train_data, batch_size=batch_size,shuffle=True)\n",
    "\n",
    "test_loader = torch.utils.data.DataLoader(dataset=test_data, batch_size=batch_size,shuffle=False)"
   ]
  },
  {
   "cell_type": "code",
   "execution_count": 75,
   "metadata": {},
   "outputs": [
    {
     "name": "stdout",
     "output_type": "stream",
     "text": [
      "Epoch: 0, Train Loss: 0.4228413777946155, Test Loss: 0.23635363063621748\n",
      "Epoch: 1, Train Loss: 0.20169683325011084, Test Loss: 0.16379969495148222\n",
      "Epoch: 2, Train Loss: 0.1463966191942885, Test Loss: 0.1279320098412565\n",
      "Epoch: 3, Train Loss: 0.11516637008772222, Test Loss: 0.11548135396022396\n",
      "Epoch: 4, Train Loss: 0.09181429608973232, Test Loss: 0.1018109820765455\n",
      "Epoch: 5, Train Loss: 0.07584882521235359, Test Loss: 0.09092505367861801\n",
      "Epoch: 6, Train Loss: 0.06337993537713248, Test Loss: 0.08787330094418383\n",
      "Epoch: 7, Train Loss: 0.05437509758052414, Test Loss: 0.07960147195262834\n",
      "Epoch: 8, Train Loss: 0.04568783815568889, Test Loss: 0.0789653389461197\n",
      "Epoch: 9, Train Loss: 0.03943179752518818, Test Loss: 0.07381278099831123\n"
     ]
    }
   ],
   "source": [
    "n_epochs = 10\n",
    "\n",
    "train_losses = np.zeros(n_epochs)\n",
    "test_losses = np.zeros(n_epochs)\n",
    "\n",
    "for it in range(n_epochs):\n",
    "\n",
    "    train_loss = []\n",
    "\n",
    "    for inputs,targets in train_loader:\n",
    "        \n",
    "        inputs, targets = inputs.to(device), targets.to(device)\n",
    "\n",
    "        inputs = inputs.view(-1,784)\n",
    "        \n",
    "        optimizer.zero_grad()\n",
    "\n",
    "        outputs = model(inputs)\n",
    "\n",
    "        loss = criterion(outputs, targets)\n",
    "\n",
    "        loss.backward()\n",
    "\n",
    "        optimizer.step()\n",
    "\n",
    "        train_loss.append(loss.item())\n",
    "\n",
    "    train_loss = np.mean(train_loss)\n",
    "\n",
    "    test_loss = []\n",
    "\n",
    "    for inputs, targets in test_loader:\n",
    "\n",
    "        inputs, targets = inputs.to(device), targets.to(device)\n",
    "\n",
    "        inputs = inputs.view(-1,784)\n",
    "        \n",
    "        outputs = model(inputs)\n",
    "\n",
    "        loss = criterion(outputs, targets)\n",
    "\n",
    "        test_loss.append(loss.item())\n",
    "\n",
    "    test_loss = np.mean(test_loss)\n",
    "\n",
    "    train_losses[it] = train_loss\n",
    "    \n",
    "    test_losses[it] = test_loss\n",
    "\n",
    "    print(f'Epoch: {it}, Train Loss: {train_loss}, Test Loss: {test_loss}')\n",
    "\n"
   ]
  },
  {
   "cell_type": "code",
   "execution_count": 87,
   "metadata": {},
   "outputs": [
    {
     "data": {
      "image/png": "[encoded data removed]",
      "text/plain": [
       "<Figure size 432x288 with 1 Axes>"
      ]
     },
     "metadata": {
      "needs_background": "light"
     },
     "output_type": "display_data"
    }
   ],
   "source": [
    "plt.plot(train_losses, color='red', label='Train Loss')\n",
    "plt.plot(test_losses, color='blue', label='Test Loss')\n",
    "plt.grid()"
   ]
  },
  {
   "cell_type": "code",
   "execution_count": 77,
   "metadata": {},
   "outputs": [
    {
     "name": "stdout",
     "output_type": "stream",
     "text": [
      "Train Accuracy: 0.9919, Test Accuracy: 0.9773\n"
     ]
    }
   ],
   "source": [
    "n_correct = 0\n",
    "n_total = 0\n",
    "\n",
    "for inputs, targets in train_loader:\n",
    "\n",
    "    inputs = inputs.view(-1,784)\n",
    "    outputs = model(inputs)\n",
    "    _, predictions = torch.max(outputs,1)\n",
    "\n",
    "    n_correct += (predictions == targets).sum().item()\n",
    "    n_total += targets.shape[0]\n",
    "train_acc = n_correct/n_total\n",
    "\n",
    "\n",
    "n_correct = 0\n",
    "n_total = 0\n",
    "\n",
    "for inputs, targets in test_loader:\n",
    "\n",
    "    inputs = inputs.view(-1,784)\n",
    "    outputs = model(inputs)\n",
    "    _, predictions = torch.max(outputs,1)\n",
    "\n",
    "    n_correct += (predictions == targets).sum().item()\n",
    "    n_total += targets.shape[0]\n",
    "test_acc = n_correct/n_total\n",
    "    \n",
    "print(f'Train Accuracy: {train_acc}, Test Accuracy: {test_acc}')\n",
    "   \n"
   ]
  },
  {
   "cell_type": "code",
   "execution_count": 118,
   "metadata": {},
   "outputs": [],
   "source": [
    "from sklearn.metrics import confusion_matrix\n",
    "import numpy as np\n",
    "import itertools\n",
    "\n",
    "\n",
    "def plot_confusion_matrix(cm, classes, normalize=False, title='Confusion Matrix', cmap = plt.cm.Blues):\n",
    "\n",
    "    if normalize:\n",
    "\n",
    "        cm = cm.astype('float') / cm.sum(axis=1)[:,np.newaxis]\n",
    "        print('Normalized Confusion Matrix')\n",
    "\n",
    "    else:\n",
    "        print('Confusion Matrix Without Normalization')\n",
    "\n",
    "    print(cm)\n",
    "    import seaborn as sns\n",
    "    plt.figure(figsize=(16,8))\n",
    "    sns.heatmap(cm,annot=True, cmap=cmap)\n",
    "\n",
    "\n"
   ]
  },
  {
   "cell_type": "code",
   "execution_count": 119,
   "metadata": {},
   "outputs": [
    {
     "name": "stdout",
     "output_type": "stream",
     "text": [
      "Confusion Matrix Without Normalization\n",
      "[[ 969    0    1    1    0    0    4    1    3    1]\n",
      " [   0 1121    3    1    0    1    4    1    4    0]\n",
      " [   7    0 1001    3    1    1    3    5   10    1]\n",
      " [   0    0    8  978    0    7    0    2    6    9]\n",
      " [   1    0    1    1  958    0    7    1    2   11]\n",
      " [   2    0    0    6    1  876    3    0    3    1]\n",
      " [   4    3    1    1    1    5  941    0    2    0]\n",
      " [   1    4    9    3    1    0    0  999    3    8]\n",
      " [   4    0    0    4    5    3    3    2  949    4]\n",
      " [   3    4    0    4    9    2    0    3    3  981]]\n"
     ]
    },
    {
     "data": {
      "image/png": "[encoded data removed]",
      "text/plain": [
       "<Figure size 1152x576 with 2 Axes>"
      ]
     },
     "metadata": {
      "needs_background": "light"
     },
     "output_type": "display_data"
    }
   ],
   "source": [
    "x_test = test_data.data.numpy()\n",
    "\n",
    "y_test = test_data.targets.numpy()\n",
    "\n",
    "p_test = np.array([])\n",
    "\n",
    "for inputs, targets in test_loader:\n",
    "\n",
    "    inputs = inputs.view(-1,784)\n",
    "\n",
    "    outputs = model(inputs)\n",
    "    \n",
    "    _, predictions = torch.max(outputs, 1)\n",
    "\n",
    "    p_test = np.concatenate((p_test, predictions.data.numpy()))\n",
    "\n",
    "cm  = confusion_matrix(y_test, p_test)\n",
    "\n",
    "plot_confusion_matrix(cm, list(range(10)))\n",
    "\n",
    "\n",
    "\n",
    "    "
   ]
  },
  {
   "cell_type": "code",
   "execution_count": null,
   "metadata": {},
   "outputs": [],
   "source": []
  }
 ],
 "metadata": {
  "interpreter": {
   "hash": "dd29c56ba2adf52c07826bc05c245baffb15e472d30979d3bfec02223da0ee11"
  },
  "kernelspec": {
   "display_name": "Python 3.9.7 64-bit",
   "language": "python",
   "name": "python3"
  },
  "language_info": {
   "codemirror_mode": {
    "name": "ipython",
    "version": 3
   },
   "file_extension": ".py",
   "mimetype": "text/x-python",
   "name": "python",
   "nbconvert_exporter": "python",
   "pygments_lexer": "ipython3",
   "version": "3.9.7"
  },
  "orig_nbformat": 4
 },
 "nbformat": 4,
 "nbformat_minor": 2
}
