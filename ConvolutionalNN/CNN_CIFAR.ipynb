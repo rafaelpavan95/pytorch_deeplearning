{
 "cells": [
  {
   "cell_type": "markdown",
   "metadata": {},
   "source": [
    "# Convolutional Neural Network - CIFAR\n",
    "\n",
    "Let's create a convolutional neural network to handle the CIDAR dataset."
   ]
  },
  {
   "cell_type": "code",
   "execution_count": 26,
   "metadata": {},
   "outputs": [],
   "source": [
    "import numpy as np\n",
    "import matplotlib.pyplot as plt\n",
    "import pandas as pd\n",
    "import torch\n",
    "import torch.nn as nn\n",
    "import torchvision\n",
    "import torchvision.transforms as transforms\n",
    "import torch.nn.functional as F"
   ]
  },
  {
   "cell_type": "code",
   "execution_count": 2,
   "metadata": {},
   "outputs": [
    {
     "name": "stdout",
     "output_type": "stream",
     "text": [
      "Downloading https://www.cs.toronto.edu/~kriz/cifar-10-python.tar.gz to .\\cifar-10-python.tar.gz\n"
     ]
    },
    {
     "name": "stderr",
     "output_type": "stream",
     "text": [
      "170499072it [00:15, 11030248.34it/s]                              \n"
     ]
    },
    {
     "name": "stdout",
     "output_type": "stream",
     "text": [
      "Extracting .\\cifar-10-python.tar.gz to .\n",
      "Files already downloaded and verified\n"
     ]
    }
   ],
   "source": [
    "train_dataset = torchvision.datasets.CIFAR10(\n",
    "    root='.',\n",
    "    train=True,\n",
    "    transform=transforms.ToTensor(),\n",
    "    download=True)\n",
    "test_dataset = torchvision.datasets.CIFAR10(\n",
    "    root='.',\n",
    "    train=False,\n",
    "    transform=transforms.ToTensor(),\n",
    "    download=True)"
   ]
  },
  {
   "cell_type": "code",
   "execution_count": 3,
   "metadata": {},
   "outputs": [
    {
     "data": {
      "text/plain": [
       "(50000, 32, 32, 3)"
      ]
     },
     "execution_count": 3,
     "metadata": {},
     "output_type": "execute_result"
    }
   ],
   "source": [
    "train_dataset.data.shape"
   ]
  },
  {
   "cell_type": "code",
   "execution_count": 4,
   "metadata": {},
   "outputs": [
    {
     "name": "stdout",
     "output_type": "stream",
     "text": [
      "number of classes: 10\n"
     ]
    }
   ],
   "source": [
    "K = len(set(train_dataset.targets))\n",
    "print(\"number of classes:\", K)"
   ]
  },
  {
   "cell_type": "code",
   "execution_count": 35,
   "metadata": {},
   "outputs": [],
   "source": [
    "\n",
    "batch_size = 128\n",
    "\n",
    "train_loader = torch.utils.data.DataLoader(dataset=train_dataset, \n",
    "                                           batch_size=batch_size, \n",
    "                                           shuffle=True)\n",
    "\n",
    "test_loader = torch.utils.data.DataLoader(dataset=test_dataset, \n",
    "                                          batch_size=batch_size, \n",
    "                                          shuffle=False)"
   ]
  },
  {
   "cell_type": "code",
   "execution_count": 6,
   "metadata": {},
   "outputs": [
    {
     "name": "stdout",
     "output_type": "stream",
     "text": [
      "tensor([[[[0.5961, 0.5843, 0.5843,  ..., 0.5529, 0.5490, 0.5451],\n",
      "          [0.6000, 0.5843, 0.5882,  ..., 0.5529, 0.5490, 0.5451],\n",
      "          [0.6000, 0.5882, 0.5922,  ..., 0.5569, 0.5490, 0.5451],\n",
      "          ...,\n",
      "          [0.5412, 0.5373, 0.5412,  ..., 0.4353, 0.4275, 0.4157],\n",
      "          [0.5216, 0.5216, 0.5255,  ..., 0.4510, 0.4471, 0.4471],\n",
      "          [0.5059, 0.5137, 0.5294,  ..., 0.4353, 0.4196, 0.4078]],\n",
      "\n",
      "         [[0.6706, 0.6627, 0.6706,  ..., 0.6392, 0.6353, 0.6314],\n",
      "          [0.6706, 0.6667, 0.6745,  ..., 0.6431, 0.6353, 0.6314],\n",
      "          [0.6784, 0.6784, 0.6824,  ..., 0.6471, 0.6431, 0.6314],\n",
      "          ...,\n",
      "          [0.4784, 0.4706, 0.4784,  ..., 0.3843, 0.3765, 0.3647],\n",
      "          [0.4588, 0.4549, 0.4627,  ..., 0.4157, 0.4118, 0.4039],\n",
      "          [0.4431, 0.4510, 0.4667,  ..., 0.3882, 0.3725, 0.3608]],\n",
      "\n",
      "         [[0.8275, 0.8196, 0.8275,  ..., 0.7922, 0.7882, 0.7882],\n",
      "          [0.8275, 0.8157, 0.8235,  ..., 0.7922, 0.7882, 0.7882],\n",
      "          [0.8196, 0.8118, 0.8118,  ..., 0.7843, 0.7804, 0.7843],\n",
      "          ...,\n",
      "          [0.4157, 0.4196, 0.4275,  ..., 0.3216, 0.3137, 0.3098],\n",
      "          [0.4039, 0.4078, 0.4157,  ..., 0.3765, 0.3647, 0.3569],\n",
      "          [0.3922, 0.4000, 0.4157,  ..., 0.3451, 0.3255, 0.3255]]]])\n",
      "torch.Size([1, 3, 32, 32])\n"
     ]
    }
   ],
   "source": [
    "tmp_loader = torch.utils.data.DataLoader(dataset=train_dataset, \n",
    "                                           batch_size=1, \n",
    "                                           shuffle=True)\n",
    "\n",
    "for x, y in tmp_loader:\n",
    "  print(x)\n",
    "  print(x.shape)\n",
    "  break"
   ]
  },
  {
   "cell_type": "code",
   "execution_count": 36,
   "metadata": {},
   "outputs": [],
   "source": [
    "class CNN_Rafael(nn.Module):\n",
    "\n",
    "  def __init__(self, K):\n",
    "\n",
    "    super(CNN_Rafael, self).__init__()\n",
    "    self.conv1 = nn.Conv2d(3, 32, kernel_size=3, stride=2)\n",
    "    self.conv2 = nn.Conv2d(32, 64, kernel_size=3, stride=2)\n",
    "    self.conv3 = nn.Conv2d(64, 128, kernel_size=3, stride=2)\n",
    "    self.fc1 = nn.Linear(128 * 3 * 3, 1024)\n",
    "    self.fc2 = nn.Linear(1024, K)\n",
    "  \n",
    "  def forward(self, x):\n",
    "    \n",
    "    x = F.relu(self.conv1(x))\n",
    "    x = F.relu(self.conv2(x))\n",
    "    x = F.relu(self.conv3(x))\n",
    "    x = x.view(-1, 128 * 3 * 3)\n",
    "    x = F.dropout(x, p=0.5)\n",
    "    x = F.relu(self.fc1(x))\n",
    "    x = F.dropout(x, p=0.2)\n",
    "    x = self.fc2(x)\n",
    "    \n",
    "    return x"
   ]
  },
  {
   "cell_type": "code",
   "execution_count": 37,
   "metadata": {},
   "outputs": [],
   "source": [
    "model = CNN_Rafael(K)\n",
    "\n",
    "criterion = nn.CrossEntropyLoss()\n",
    "optimizer = torch.optim.SGD(model.parameters(),lr= 1e-3, momentum=0.9)"
   ]
  },
  {
   "cell_type": "code",
   "execution_count": 20,
   "metadata": {},
   "outputs": [],
   "source": [
    "def batch_gd(model, criterion, optimizer, train_loader, test_loader, epochs):\n",
    "  train_losses = np.zeros(epochs)\n",
    "  test_losses = np.zeros(epochs)\n",
    "\n",
    "  for it in range(epochs):\n",
    "    model.train()\n",
    "    train_loss = []\n",
    "    for inputs, targets in train_loader:\n",
    "\n",
    "      optimizer.zero_grad()\n",
    "\n",
    "      outputs = model(inputs)\n",
    "      loss = criterion(outputs, targets)\n",
    "        \n",
    "      loss.backward()\n",
    "      optimizer.step()\n",
    "\n",
    "      train_loss.append(loss.item())\n",
    "\n",
    "    train_loss = np.mean(train_loss)\n",
    "    \n",
    "    model.eval()\n",
    "    test_loss = []\n",
    "\n",
    "    for inputs, targets in test_loader:\n",
    "\n",
    "      outputs = model(inputs)\n",
    "      loss = criterion(outputs, targets)\n",
    "      test_loss.append(loss.item())\n",
    "    test_loss = np.mean(test_loss)\n",
    "\n",
    "    # Save losses\n",
    "    train_losses[it] = train_loss\n",
    "    test_losses[it] = test_loss\n",
    "    \n",
    "    print(f'Epoch {it+1}/{epochs}, Train Loss: {train_loss:.4f}, \\\n",
    "      Test Loss: {test_loss:.4f}')\n",
    "  \n",
    "  return train_losses, test_losses"
   ]
  },
  {
   "cell_type": "code",
   "execution_count": 38,
   "metadata": {},
   "outputs": [
    {
     "name": "stdout",
     "output_type": "stream",
     "text": [
      "Epoch 1/15, Train Loss: 2.3022,       Test Loss: 2.3011\n",
      "Epoch 2/15, Train Loss: 2.2998,       Test Loss: 2.2977\n",
      "Epoch 3/15, Train Loss: 2.2938,       Test Loss: 2.2867\n",
      "Epoch 4/15, Train Loss: 2.2694,       Test Loss: 2.2331\n",
      "Epoch 5/15, Train Loss: 2.1349,       Test Loss: 2.0390\n",
      "Epoch 6/15, Train Loss: 2.0220,       Test Loss: 1.9958\n",
      "Epoch 7/15, Train Loss: 1.9802,       Test Loss: 1.9559\n",
      "Epoch 8/15, Train Loss: 1.9408,       Test Loss: 1.9117\n",
      "Epoch 9/15, Train Loss: 1.8987,       Test Loss: 1.8687\n",
      "Epoch 10/15, Train Loss: 1.8539,       Test Loss: 1.8353\n",
      "Epoch 11/15, Train Loss: 1.8168,       Test Loss: 1.7866\n",
      "Epoch 12/15, Train Loss: 1.7767,       Test Loss: 1.7512\n",
      "Epoch 13/15, Train Loss: 1.7421,       Test Loss: 1.7156\n",
      "Epoch 14/15, Train Loss: 1.7079,       Test Loss: 1.6746\n",
      "Epoch 15/15, Train Loss: 1.6773,       Test Loss: 1.6604\n"
     ]
    }
   ],
   "source": [
    "train_losses, test_losses = batch_gd(model, criterion, optimizer, train_loader, test_loader, epochs=15)"
   ]
  },
  {
   "cell_type": "code",
   "execution_count": 45,
   "metadata": {},
   "outputs": [
    {
     "data": {
      "image/png": "[encoded data removed]",
      "text/plain": [
       "<Figure size 432x288 with 1 Axes>"
      ]
     },
     "metadata": {
      "needs_background": "light"
     },
     "output_type": "display_data"
    }
   ],
   "source": [
    "plt.plot(train_losses, label='train loss')\n",
    "plt.plot(test_losses, label='test loss')\n",
    "plt.legend()\n",
    "plt.grid()\n",
    "plt.show()"
   ]
  },
  {
   "cell_type": "code",
   "execution_count": 41,
   "metadata": {},
   "outputs": [
    {
     "name": "stdout",
     "output_type": "stream",
     "text": [
      "Train acc: 0.4033, Test acc: 0.4014\n"
     ]
    }
   ],
   "source": [
    "model.eval()\n",
    "n_correct = 0.\n",
    "n_total = 0.\n",
    "for inputs, targets in train_loader:\n",
    "  \n",
    "  outputs = model(inputs)\n",
    "\n",
    "  _, predictions = torch.max(outputs, 1)\n",
    "  \n",
    "  n_correct += (predictions == targets).sum().item()\n",
    "  n_total += targets.shape[0]\n",
    "\n",
    "train_acc = n_correct / n_total\n",
    "\n",
    "\n",
    "n_correct = 0.\n",
    "n_total = 0.\n",
    "for inputs, targets in test_loader:\n",
    "  \n",
    "  outputs = model(inputs)\n",
    "\n",
    "  _, predictions = torch.max(outputs, 1)\n",
    "  \n",
    "  n_correct += (predictions == targets).sum().item()\n",
    "  n_total += targets.shape[0]\n",
    "\n",
    "test_acc = n_correct / n_total\n",
    "print(f\"Train acc: {train_acc:.4f}, Test acc: {test_acc:.4f}\")"
   ]
  },
  {
   "cell_type": "code",
   "execution_count": 43,
   "metadata": {},
   "outputs": [
    {
     "data": {
      "image/png": "[encoded data removed]",
      "text/plain": [
       "<Figure size 432x288 with 1 Axes>"
      ]
     },
     "metadata": {
      "needs_background": "light"
     },
     "output_type": "display_data"
    }
   ],
   "source": [
    "x_test = test_dataset.data\n",
    "y_test = np.array(test_dataset.targets)\n",
    "p_test = np.array([])\n",
    "for inputs, targets in test_loader:\n",
    "\n",
    "  outputs = model(inputs)\n",
    "\n",
    "  _, predictions = torch.max(outputs, 1)\n",
    "  \n",
    "  p_test = np.concatenate((p_test, predictions.cpu().numpy()))\n",
    "\n",
    "# label mapping\n",
    "labels = '''airplane\n",
    "automobile\n",
    "bird\n",
    "cat\n",
    "deer\n",
    "dog\n",
    "frog\n",
    "horse\n",
    "ship\n",
    "truck'''.split()\n",
    "\n",
    "\n",
    "p_test = p_test.astype(np.uint8)\n",
    "misclassified_idx = np.where(p_test != y_test)[0]\n",
    "i = np.random.choice(misclassified_idx)\n",
    "plt.imshow(x_test[i].reshape(32,32,3))\n",
    "plt.title(\"True label: %s Predicted: %s\" % (labels[y_test[i]], labels[p_test[i]]));"
   ]
  },
  {
   "cell_type": "code",
   "execution_count": 44,
   "metadata": {},
   "outputs": [
    {
     "data": {
      "image/png": "[encoded data removed]",
      "text/plain": [
       "<Figure size 432x288 with 1 Axes>"
      ]
     },
     "metadata": {
      "needs_background": "light"
     },
     "output_type": "display_data"
    }
   ],
   "source": [
    "classified_idx = np.where(p_test == y_test)[0]\n",
    "i = np.random.choice(classified_idx)\n",
    "plt.imshow(x_test[i].reshape(32,32,3))\n",
    "plt.title(\"True label: %s Predicted: %s\" % (labels[y_test[i]], labels[p_test[i]]));"
   ]
  },
  {
   "cell_type": "code",
   "execution_count": 48,
   "metadata": {},
   "outputs": [
    {
     "name": "stdout",
     "output_type": "stream",
     "text": [
      "----------------------------------------------------------------\n",
      "        Layer (type)               Output Shape         Param #\n",
      "================================================================\n",
      "            Conv2d-1           [-1, 32, 15, 15]             896\n",
      "            Conv2d-2             [-1, 64, 7, 7]          18,496\n",
      "            Conv2d-3            [-1, 128, 3, 3]          73,856\n",
      "            Linear-4                 [-1, 1024]       1,180,672\n",
      "            Linear-5                   [-1, 10]          10,250\n",
      "================================================================\n",
      "Total params: 1,284,170\n",
      "Trainable params: 1,284,170\n",
      "Non-trainable params: 0\n",
      "----------------------------------------------------------------\n",
      "Input size (MB): 0.01\n",
      "Forward/backward pass size (MB): 0.10\n",
      "Params size (MB): 4.90\n",
      "Estimated Total Size (MB): 5.01\n",
      "----------------------------------------------------------------\n"
     ]
    }
   ],
   "source": [
    "from torchsummary import summary\n",
    "summary(model, (3, 32, 32))"
   ]
  },
  {
   "cell_type": "markdown",
   "metadata": {},
   "source": [
    "### Improving the Results\n",
    "\n",
    "    - Let's Create another CNN model;\n",
    "    - Let's do data augmentation"
   ]
  },
  {
   "cell_type": "code",
   "execution_count": 49,
   "metadata": {},
   "outputs": [],
   "source": [
    "import torchvision.transforms as transforms"
   ]
  },
  {
   "cell_type": "code",
   "execution_count": 50,
   "metadata": {},
   "outputs": [
    {
     "name": "stdout",
     "output_type": "stream",
     "text": [
      "Files already downloaded and verified\n",
      "Files already downloaded and verified\n"
     ]
    }
   ],
   "source": [
    "transformer_train = torchvision.transforms.Compose([\n",
    " \n",
    "  transforms.RandomCrop(32, padding=4),\n",
    "  torchvision.transforms.RandomHorizontalFlip(p=0.5),\n",
    "  torchvision.transforms.RandomAffine(0, translate=(0.1, 0.1)),\n",
    "  transforms.ToTensor(),                                            \n",
    "])\n",
    "\n",
    "train_dataset = torchvision.datasets.CIFAR10(\n",
    "    root='.',\n",
    "    train=True,\n",
    "    transform=transformer_train,\n",
    "    download=True)\n",
    "test_dataset = torchvision.datasets.CIFAR10(\n",
    "    root='.',\n",
    "    train=False,\n",
    "    transform=transforms.ToTensor(),\n",
    "    download=True)"
   ]
  },
  {
   "cell_type": "code",
   "execution_count": 51,
   "metadata": {},
   "outputs": [
    {
     "data": {
      "text/plain": [
       "array([[[[ 59,  62,  63],\n",
       "         [ 43,  46,  45],\n",
       "         [ 50,  48,  43],\n",
       "         ...,\n",
       "         [158, 132, 108],\n",
       "         [152, 125, 102],\n",
       "         [148, 124, 103]],\n",
       "\n",
       "        [[ 16,  20,  20],\n",
       "         [  0,   0,   0],\n",
       "         [ 18,   8,   0],\n",
       "         ...,\n",
       "         [123,  88,  55],\n",
       "         [119,  83,  50],\n",
       "         [122,  87,  57]],\n",
       "\n",
       "        [[ 25,  24,  21],\n",
       "         [ 16,   7,   0],\n",
       "         [ 49,  27,   8],\n",
       "         ...,\n",
       "         [118,  84,  50],\n",
       "         [120,  84,  50],\n",
       "         [109,  73,  42]],\n",
       "\n",
       "        ...,\n",
       "\n",
       "        [[208, 170,  96],\n",
       "         [201, 153,  34],\n",
       "         [198, 161,  26],\n",
       "         ...,\n",
       "         [160, 133,  70],\n",
       "         [ 56,  31,   7],\n",
       "         [ 53,  34,  20]],\n",
       "\n",
       "        [[180, 139,  96],\n",
       "         [173, 123,  42],\n",
       "         [186, 144,  30],\n",
       "         ...,\n",
       "         [184, 148,  94],\n",
       "         [ 97,  62,  34],\n",
       "         [ 83,  53,  34]],\n",
       "\n",
       "        [[177, 144, 116],\n",
       "         [168, 129,  94],\n",
       "         [179, 142,  87],\n",
       "         ...,\n",
       "         [216, 184, 140],\n",
       "         [151, 118,  84],\n",
       "         [123,  92,  72]]],\n",
       "\n",
       "\n",
       "       [[[154, 177, 187],\n",
       "         [126, 137, 136],\n",
       "         [105, 104,  95],\n",
       "         ...,\n",
       "         [ 91,  95,  71],\n",
       "         [ 87,  90,  71],\n",
       "         [ 79,  81,  70]],\n",
       "\n",
       "        [[140, 160, 169],\n",
       "         [145, 153, 154],\n",
       "         [125, 125, 118],\n",
       "         ...,\n",
       "         [ 96,  99,  78],\n",
       "         [ 77,  80,  62],\n",
       "         [ 71,  73,  61]],\n",
       "\n",
       "        [[140, 155, 164],\n",
       "         [139, 146, 149],\n",
       "         [115, 115, 112],\n",
       "         ...,\n",
       "         [ 79,  82,  64],\n",
       "         [ 68,  70,  55],\n",
       "         [ 67,  69,  55]],\n",
       "\n",
       "        ...,\n",
       "\n",
       "        [[175, 167, 166],\n",
       "         [156, 154, 160],\n",
       "         [154, 160, 170],\n",
       "         ...,\n",
       "         [ 42,  34,  36],\n",
       "         [ 61,  53,  57],\n",
       "         [ 93,  83,  91]],\n",
       "\n",
       "        [[165, 154, 128],\n",
       "         [156, 152, 130],\n",
       "         [159, 161, 142],\n",
       "         ...,\n",
       "         [103,  93,  96],\n",
       "         [123, 114, 120],\n",
       "         [131, 121, 131]],\n",
       "\n",
       "        [[163, 148, 120],\n",
       "         [158, 148, 122],\n",
       "         [163, 156, 133],\n",
       "         ...,\n",
       "         [143, 133, 139],\n",
       "         [143, 134, 142],\n",
       "         [143, 133, 144]]],\n",
       "\n",
       "\n",
       "       [[[255, 255, 255],\n",
       "         [253, 253, 253],\n",
       "         [253, 253, 253],\n",
       "         ...,\n",
       "         [253, 253, 253],\n",
       "         [253, 253, 253],\n",
       "         [253, 253, 253]],\n",
       "\n",
       "        [[255, 255, 255],\n",
       "         [255, 255, 255],\n",
       "         [255, 255, 255],\n",
       "         ...,\n",
       "         [255, 255, 255],\n",
       "         [255, 255, 255],\n",
       "         [255, 255, 255]],\n",
       "\n",
       "        [[255, 255, 255],\n",
       "         [254, 254, 254],\n",
       "         [254, 254, 254],\n",
       "         ...,\n",
       "         [254, 254, 254],\n",
       "         [254, 254, 254],\n",
       "         [254, 254, 254]],\n",
       "\n",
       "        ...,\n",
       "\n",
       "        [[113, 120, 112],\n",
       "         [111, 118, 111],\n",
       "         [105, 112, 106],\n",
       "         ...,\n",
       "         [ 72,  81,  80],\n",
       "         [ 72,  80,  79],\n",
       "         [ 72,  80,  79]],\n",
       "\n",
       "        [[111, 118, 110],\n",
       "         [104, 111, 104],\n",
       "         [ 99, 106,  98],\n",
       "         ...,\n",
       "         [ 68,  75,  73],\n",
       "         [ 70,  76,  75],\n",
       "         [ 78,  84,  82]],\n",
       "\n",
       "        [[106, 113, 105],\n",
       "         [ 99, 106,  98],\n",
       "         [ 95, 102,  94],\n",
       "         ...,\n",
       "         [ 78,  85,  83],\n",
       "         [ 79,  85,  83],\n",
       "         [ 80,  86,  84]]],\n",
       "\n",
       "\n",
       "       ...,\n",
       "\n",
       "\n",
       "       [[[ 35, 178, 235],\n",
       "         [ 40, 176, 239],\n",
       "         [ 42, 176, 241],\n",
       "         ...,\n",
       "         [ 99, 177, 219],\n",
       "         [ 79, 147, 197],\n",
       "         [ 89, 148, 189]],\n",
       "\n",
       "        [[ 57, 182, 234],\n",
       "         [ 44, 184, 250],\n",
       "         [ 50, 183, 240],\n",
       "         ...,\n",
       "         [156, 182, 200],\n",
       "         [141, 177, 206],\n",
       "         [116, 149, 175]],\n",
       "\n",
       "        [[ 98, 197, 237],\n",
       "         [ 64, 189, 252],\n",
       "         [ 69, 192, 245],\n",
       "         ...,\n",
       "         [188, 195, 206],\n",
       "         [119, 135, 147],\n",
       "         [ 61,  79,  90]],\n",
       "\n",
       "        ...,\n",
       "\n",
       "        [[ 73,  79,  77],\n",
       "         [ 53,  63,  68],\n",
       "         [ 54,  68,  80],\n",
       "         ...,\n",
       "         [ 17,  40,  64],\n",
       "         [ 21,  36,  51],\n",
       "         [ 33,  48,  49]],\n",
       "\n",
       "        [[ 61,  68,  75],\n",
       "         [ 55,  70,  86],\n",
       "         [ 57,  79, 103],\n",
       "         ...,\n",
       "         [ 24,  48,  72],\n",
       "         [ 17,  35,  53],\n",
       "         [  7,  23,  32]],\n",
       "\n",
       "        [[ 44,  56,  73],\n",
       "         [ 46,  66,  88],\n",
       "         [ 49,  77, 105],\n",
       "         ...,\n",
       "         [ 27,  52,  77],\n",
       "         [ 21,  43,  66],\n",
       "         [ 12,  31,  50]]],\n",
       "\n",
       "\n",
       "       [[[189, 211, 240],\n",
       "         [186, 208, 236],\n",
       "         [185, 207, 235],\n",
       "         ...,\n",
       "         [175, 195, 224],\n",
       "         [172, 194, 222],\n",
       "         [169, 194, 220]],\n",
       "\n",
       "        [[194, 210, 239],\n",
       "         [191, 207, 236],\n",
       "         [190, 206, 235],\n",
       "         ...,\n",
       "         [173, 192, 220],\n",
       "         [171, 191, 218],\n",
       "         [167, 190, 216]],\n",
       "\n",
       "        [[208, 219, 244],\n",
       "         [205, 216, 240],\n",
       "         [204, 215, 239],\n",
       "         ...,\n",
       "         [175, 191, 217],\n",
       "         [172, 190, 216],\n",
       "         [169, 191, 215]],\n",
       "\n",
       "        ...,\n",
       "\n",
       "        [[207, 199, 181],\n",
       "         [203, 195, 175],\n",
       "         [203, 196, 173],\n",
       "         ...,\n",
       "         [135, 132, 127],\n",
       "         [162, 158, 150],\n",
       "         [168, 163, 151]],\n",
       "\n",
       "        [[198, 190, 170],\n",
       "         [189, 181, 159],\n",
       "         [180, 172, 147],\n",
       "         ...,\n",
       "         [178, 171, 160],\n",
       "         [175, 169, 156],\n",
       "         [175, 169, 154]],\n",
       "\n",
       "        [[198, 189, 173],\n",
       "         [189, 181, 162],\n",
       "         [178, 170, 149],\n",
       "         ...,\n",
       "         [195, 184, 169],\n",
       "         [196, 189, 171],\n",
       "         [195, 190, 171]]],\n",
       "\n",
       "\n",
       "       [[[229, 229, 239],\n",
       "         [236, 237, 247],\n",
       "         [234, 236, 247],\n",
       "         ...,\n",
       "         [217, 219, 233],\n",
       "         [221, 223, 234],\n",
       "         [222, 223, 233]],\n",
       "\n",
       "        [[222, 221, 229],\n",
       "         [239, 239, 249],\n",
       "         [233, 234, 246],\n",
       "         ...,\n",
       "         [223, 223, 236],\n",
       "         [227, 228, 238],\n",
       "         [210, 211, 220]],\n",
       "\n",
       "        [[213, 206, 211],\n",
       "         [234, 232, 239],\n",
       "         [231, 233, 244],\n",
       "         ...,\n",
       "         [220, 220, 232],\n",
       "         [220, 219, 232],\n",
       "         [202, 203, 215]],\n",
       "\n",
       "        ...,\n",
       "\n",
       "        [[150, 143, 135],\n",
       "         [140, 135, 127],\n",
       "         [132, 127, 120],\n",
       "         ...,\n",
       "         [224, 222, 218],\n",
       "         [230, 228, 225],\n",
       "         [241, 241, 238]],\n",
       "\n",
       "        [[137, 132, 126],\n",
       "         [130, 127, 120],\n",
       "         [125, 121, 115],\n",
       "         ...,\n",
       "         [181, 180, 178],\n",
       "         [202, 201, 198],\n",
       "         [212, 211, 207]],\n",
       "\n",
       "        [[122, 119, 114],\n",
       "         [118, 116, 110],\n",
       "         [120, 116, 111],\n",
       "         ...,\n",
       "         [179, 177, 173],\n",
       "         [164, 164, 162],\n",
       "         [163, 163, 161]]]], dtype=uint8)"
      ]
     },
     "execution_count": 51,
     "metadata": {},
     "output_type": "execute_result"
    }
   ],
   "source": [
    "train_dataset.data"
   ]
  },
  {
   "cell_type": "code",
   "execution_count": 53,
   "metadata": {},
   "outputs": [
    {
     "data": {
      "text/plain": [
       "(50000, 32, 32, 3)"
      ]
     },
     "execution_count": 53,
     "metadata": {},
     "output_type": "execute_result"
    }
   ],
   "source": [
    "train_dataset.data.shape"
   ]
  },
  {
   "cell_type": "code",
   "execution_count": 56,
   "metadata": {},
   "outputs": [],
   "source": [
    "batch_size = 128\n",
    "train_loader = torch.utils.data.DataLoader(dataset=train_dataset, \n",
    "                                           batch_size=batch_size, \n",
    "                                           shuffle=True)\n",
    "\n",
    "test_loader = torch.utils.data.DataLoader(dataset=test_dataset, \n",
    "                                          batch_size=batch_size, \n",
    "                                          shuffle=False)"
   ]
  },
  {
   "cell_type": "code",
   "execution_count": 57,
   "metadata": {},
   "outputs": [
    {
     "name": "stdout",
     "output_type": "stream",
     "text": [
      "Files already downloaded and verified\n"
     ]
    }
   ],
   "source": [
    "train_dataset_fixed = torchvision.datasets.CIFAR10(\n",
    "    root='.',\n",
    "    train=True,\n",
    "    transform=transforms.ToTensor(),\n",
    "    download=True)\n",
    "train_loader_fixed = torch.utils.data.DataLoader(\n",
    "    dataset=train_dataset_fixed, \n",
    "    batch_size=batch_size, \n",
    "    shuffle=False)"
   ]
  },
  {
   "cell_type": "code",
   "execution_count": 58,
   "metadata": {},
   "outputs": [],
   "source": [
    "class CNN(nn.Module):\n",
    "  def __init__(self, K):\n",
    "    super(CNN, self).__init__()\n",
    "    \n",
    "    # define the conv layers\n",
    "    self.conv1 = nn.Sequential(\n",
    "        nn.Conv2d(3, 32, kernel_size=3, padding=1),\n",
    "        nn.ReLU(),\n",
    "        nn.BatchNorm2d(32),\n",
    "        nn.Conv2d(32, 32, kernel_size=3, padding=1),\n",
    "        nn.ReLU(),\n",
    "        nn.BatchNorm2d(32),\n",
    "        nn.MaxPool2d(2),\n",
    "    )\n",
    "    self.conv2 = nn.Sequential(\n",
    "        nn.Conv2d(32, 64, kernel_size=3, padding=1),\n",
    "        nn.ReLU(),\n",
    "        nn.BatchNorm2d(64),\n",
    "        nn.Conv2d(64, 64, kernel_size=3, padding=1),\n",
    "        nn.ReLU(),\n",
    "        nn.BatchNorm2d(64),\n",
    "        nn.MaxPool2d(2),\n",
    "    )\n",
    "    self.conv3 = nn.Sequential(\n",
    "        nn.Conv2d(64, 128, kernel_size=3, padding=1),\n",
    "        nn.ReLU(),\n",
    "        nn.BatchNorm2d(128),\n",
    "        nn.Conv2d(128, 128, kernel_size=3, padding=1),\n",
    "        nn.ReLU(),\n",
    "        nn.BatchNorm2d(128),\n",
    "        nn.MaxPool2d(2),\n",
    "    )\n",
    "    \n",
    "    self.fc1 = nn.Linear(128 * 4 * 4, 1024)\n",
    "    self.fc2 = nn.Linear(1024, K)\n",
    "  \n",
    "  def forward(self, x):\n",
    "    x = self.conv1(x)\n",
    "    x = self.conv2(x)\n",
    "    x = self.conv3(x)\n",
    "    x = x.view(x.size(0), -1)\n",
    "    x = F.dropout(x, p=0.5)\n",
    "    x = F.relu(self.fc1(x))\n",
    "    x = F.dropout(x, p=0.2)\n",
    "    x = self.fc2(x)\n",
    "    \n",
    "    return x"
   ]
  },
  {
   "cell_type": "code",
   "execution_count": 59,
   "metadata": {},
   "outputs": [
    {
     "name": "stdout",
     "output_type": "stream",
     "text": [
      "----------------------------------------------------------------\n",
      "        Layer (type)               Output Shape         Param #\n",
      "================================================================\n",
      "            Conv2d-1           [-1, 32, 32, 32]             896\n",
      "              ReLU-2           [-1, 32, 32, 32]               0\n",
      "       BatchNorm2d-3           [-1, 32, 32, 32]              64\n",
      "            Conv2d-4           [-1, 32, 32, 32]           9,248\n",
      "              ReLU-5           [-1, 32, 32, 32]               0\n",
      "       BatchNorm2d-6           [-1, 32, 32, 32]              64\n",
      "         MaxPool2d-7           [-1, 32, 16, 16]               0\n",
      "            Conv2d-8           [-1, 64, 16, 16]          18,496\n",
      "              ReLU-9           [-1, 64, 16, 16]               0\n",
      "      BatchNorm2d-10           [-1, 64, 16, 16]             128\n",
      "           Conv2d-11           [-1, 64, 16, 16]          36,928\n",
      "             ReLU-12           [-1, 64, 16, 16]               0\n",
      "      BatchNorm2d-13           [-1, 64, 16, 16]             128\n",
      "        MaxPool2d-14             [-1, 64, 8, 8]               0\n",
      "           Conv2d-15            [-1, 128, 8, 8]          73,856\n",
      "             ReLU-16            [-1, 128, 8, 8]               0\n",
      "      BatchNorm2d-17            [-1, 128, 8, 8]             256\n",
      "           Conv2d-18            [-1, 128, 8, 8]         147,584\n",
      "             ReLU-19            [-1, 128, 8, 8]               0\n",
      "      BatchNorm2d-20            [-1, 128, 8, 8]             256\n",
      "        MaxPool2d-21            [-1, 128, 4, 4]               0\n",
      "           Linear-22                 [-1, 1024]       2,098,176\n",
      "           Linear-23                   [-1, 10]          10,250\n",
      "================================================================\n",
      "Total params: 2,396,330\n",
      "Trainable params: 2,396,330\n",
      "Non-trainable params: 0\n",
      "----------------------------------------------------------------\n",
      "Input size (MB): 0.01\n",
      "Forward/backward pass size (MB): 2.74\n",
      "Params size (MB): 9.14\n",
      "Estimated Total Size (MB): 11.90\n",
      "----------------------------------------------------------------\n"
     ]
    }
   ],
   "source": [
    "model = CNN(K)\n",
    "\n",
    "summary(model, (3, 32, 32))"
   ]
  },
  {
   "cell_type": "code",
   "execution_count": 66,
   "metadata": {},
   "outputs": [],
   "source": [
    "criterion = nn.CrossEntropyLoss()\n",
    "optimizer = torch.optim.Adam(model.parameters())"
   ]
  },
  {
   "cell_type": "code",
   "execution_count": 67,
   "metadata": {},
   "outputs": [
    {
     "name": "stdout",
     "output_type": "stream",
     "text": [
      "Epoch 1/15, Train Loss: 0.9061,       Test Loss: 0.8192\n",
      "Epoch 2/15, Train Loss: 0.7983,       Test Loss: 0.7654\n",
      "Epoch 3/15, Train Loss: 0.7236,       Test Loss: 0.6910\n",
      "Epoch 4/15, Train Loss: 0.6631,       Test Loss: 0.6531\n",
      "Epoch 5/15, Train Loss: 0.6354,       Test Loss: 0.6146\n",
      "Epoch 6/15, Train Loss: 0.6019,       Test Loss: 0.5858\n",
      "Epoch 7/15, Train Loss: 0.5757,       Test Loss: 0.5774\n",
      "Epoch 8/15, Train Loss: 0.5416,       Test Loss: 0.5836\n",
      "Epoch 9/15, Train Loss: 0.5222,       Test Loss: 0.5309\n",
      "Epoch 10/15, Train Loss: 0.5081,       Test Loss: 0.5142\n",
      "Epoch 11/15, Train Loss: 0.4928,       Test Loss: 0.5332\n",
      "Epoch 12/15, Train Loss: 0.4727,       Test Loss: 0.5343\n",
      "Epoch 13/15, Train Loss: 0.4562,       Test Loss: 0.5262\n",
      "Epoch 14/15, Train Loss: 0.4452,       Test Loss: 0.4984\n",
      "Epoch 15/15, Train Loss: 0.4357,       Test Loss: 0.4903\n"
     ]
    },
    {
     "data": {
      "text/plain": [
       "(array([0.9060956 , 0.79828599, 0.72359847, 0.66314505, 0.63537782,\n",
       "        0.60194995, 0.5756705 , 0.54156912, 0.52223326, 0.50813303,\n",
       "        0.49279646, 0.4727441 , 0.4562457 , 0.44518509, 0.43570063]),\n",
       " array([0.81918857, 0.76537053, 0.69098691, 0.65308382, 0.61457373,\n",
       "        0.58575555, 0.57743094, 0.58363366, 0.53092578, 0.51420187,\n",
       "        0.53318046, 0.5343155 , 0.52615634, 0.49837191, 0.49027866]))"
      ]
     },
     "execution_count": 67,
     "metadata": {},
     "output_type": "execute_result"
    }
   ],
   "source": [
    "batch_gd(model, criterion, optimizer, train_loader, test_loader, epochs=15)"
   ]
  },
  {
   "cell_type": "code",
   "execution_count": 69,
   "metadata": {},
   "outputs": [
    {
     "name": "stdout",
     "output_type": "stream",
     "text": [
      "Train acc: 0.8791, Test acc: 0.8371\n"
     ]
    }
   ],
   "source": [
    "model.eval()\n",
    "n_correct = 0.\n",
    "n_total = 0.\n",
    "for inputs, targets in train_loader_fixed:\n",
    "  \n",
    "\n",
    "  outputs = model(inputs)\n",
    "\n",
    "  _, predictions = torch.max(outputs, 1)\n",
    "  \n",
    "  n_correct += (predictions == targets).sum().item()\n",
    "  n_total += targets.shape[0]\n",
    "\n",
    "train_acc = n_correct / n_total\n",
    "\n",
    "\n",
    "n_correct = 0.\n",
    "n_total = 0.\n",
    "for inputs, targets in test_loader:\n",
    "  outputs = model(inputs)\n",
    "\n",
    "  _, predictions = torch.max(outputs, 1)\n",
    "  \n",
    "  n_correct += (predictions == targets).sum().item()\n",
    "  n_total += targets.shape[0]\n",
    "\n",
    "test_acc = n_correct / n_total\n",
    "print(f\"Train acc: {train_acc:.4f}, Test acc: {test_acc:.4f}\")"
   ]
  }
 ],
 "metadata": {
  "interpreter": {
   "hash": "dd29c56ba2adf52c07826bc05c245baffb15e472d30979d3bfec02223da0ee11"
  },
  "kernelspec": {
   "display_name": "Python 3.9.7 64-bit",
   "language": "python",
   "name": "python3"
  },
  "language_info": {
   "codemirror_mode": {
    "name": "ipython",
    "version": 3
   },
   "file_extension": ".py",
   "mimetype": "text/x-python",
   "name": "python",
   "nbconvert_exporter": "python",
   "pygments_lexer": "ipython3",
   "version": "3.9.7"
  },
  "orig_nbformat": 4
 },
 "nbformat": 4,
 "nbformat_minor": 2
}
